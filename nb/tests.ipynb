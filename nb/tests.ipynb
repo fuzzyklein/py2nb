{
 "cells": [
  {
   "cell_type": "code",
   "execution_count": 13,
   "id": "260d95b4-b3e6-4854-895b-c30d5dfc6b7b",
   "metadata": {},
   "outputs": [],
   "source": [
    "from os import chdir\n",
    "from pathlib import Path\n",
    "import sys"
   ]
  },
  {
   "cell_type": "code",
   "execution_count": 14,
   "id": "6d42091d-dad6-4c62-9f40-67375003df2e",
   "metadata": {},
   "outputs": [],
   "source": [
    "chdir(Path.home() / 'Development/hw-4.2.0')"
   ]
  },
  {
   "cell_type": "code",
   "execution_count": 15,
   "id": "f7278be0-0c85-4970-a46a-a69729ff904a",
   "metadata": {},
   "outputs": [
    {
     "data": {
      "text/plain": [
       "['/home/fuzzy/.local/lib/python3.8/site-packages/ipykernel_launcher.py',\n",
       " '-f',\n",
       " '/home/fuzzy/.local/share/jupyter/runtime/kernel-55f7bec1-6a76-4a4e-9eea-4bed507f4c2a.json']"
      ]
     },
     "execution_count": 15,
     "metadata": {},
     "output_type": "execute_result"
    }
   ],
   "source": [
    "sys.argv"
   ]
  },
  {
   "cell_type": "code",
   "execution_count": 20,
   "id": "dd908680-35f1-45c2-99d0-98541536f252",
   "metadata": {},
   "outputs": [],
   "source": [
    "old_args = sys.argv\n",
    "sys.argv = list()"
   ]
  },
  {
   "cell_type": "code",
   "execution_count": 21,
   "id": "70a1d9a0-c695-4120-ab26-52344a2a787d",
   "metadata": {},
   "outputs": [],
   "source": [
    "import site\n",
    "site.addsitedir('../hw')"
   ]
  },
  {
   "cell_type": "code",
   "execution_count": 22,
   "id": "8f6ede43-4d95-4040-ae9a-6a907a90b345",
   "metadata": {},
   "outputs": [],
   "source": [
    "from program import *"
   ]
  },
  {
   "cell_type": "code",
   "execution_count": 31,
   "id": "7aeeb743-ce59-4f7f-b2b7-228735493525",
   "metadata": {},
   "outputs": [],
   "source": [
    "p = Program()"
   ]
  },
  {
   "cell_type": "code",
   "execution_count": 32,
   "id": "af1453dd-db69-4832-8a71-bc2191a40ae4",
   "metadata": {},
   "outputs": [
    {
     "data": {
      "text/plain": [
       "ChainMap({'args': [], 'debug': False, 'verbose': False, 'recursive': False, 'testing': False}, {}, <Section: DEFAULT>, <Section: ARGUMENTS>, <Section: ENVIRONMENT>, <Section: PROGRAM>)"
      ]
     },
     "execution_count": 32,
     "metadata": {},
     "output_type": "execute_result"
    }
   ],
   "source": [
    "p.settings"
   ]
  },
  {
   "cell_type": "code",
   "execution_count": 25,
   "id": "5afa97b6-0ef8-457a-af69-1754e84407a2",
   "metadata": {},
   "outputs": [
    {
     "data": {
      "text/plain": [
       "'hw'"
      ]
     },
     "execution_count": 25,
     "metadata": {},
     "output_type": "execute_result"
    }
   ],
   "source": [
    "p.program_name"
   ]
  },
  {
   "cell_type": "code",
   "execution_count": 28,
   "id": "0c21c5e4-8273-41f7-8edb-fc13bc7f6b33",
   "metadata": {},
   "outputs": [
    {
     "data": {
      "text/plain": [
       "KeysView(ChainMap({'args': [], 'debug': False, 'verbose': False, 'recursive': False, 'testing': False}, {}, <Section: DEFAULT>, <Section: ARGUMENTS>, <Section: ENVIRONMENT>, <Section: PROGRAM>))"
      ]
     },
     "execution_count": 28,
     "metadata": {},
     "output_type": "execute_result"
    }
   ],
   "source": [
    "p.settings.keys()"
   ]
  },
  {
   "cell_type": "code",
   "execution_count": 29,
   "id": "41acdb28-a4be-487a-b8ef-e36de7424fd0",
   "metadata": {},
   "outputs": [
    {
     "data": {
      "text/plain": [
       "collections.ChainMap"
      ]
     },
     "execution_count": 29,
     "metadata": {},
     "output_type": "execute_result"
    }
   ],
   "source": [
    "type(p.settings)"
   ]
  },
  {
   "cell_type": "code",
   "execution_count": 33,
   "id": "c554a441-6acb-4a13-9206-2620580143c5",
   "metadata": {},
   "outputs": [
    {
     "data": {
      "text/plain": [
       "{'logfile': 'log/program.log',\n",
       " 'program': 'hw',\n",
       " 'version': '4.2.0',\n",
       " 'packages_dir': \"'Development/py'\",\n",
       " 'args_json_file': 'etc/arguments.json',\n",
       " 'epilog': 'data/epilog.txt',\n",
       " 'args': [],\n",
       " 'debug': False,\n",
       " 'verbose': False,\n",
       " 'recursive': False,\n",
       " 'testing': False}"
      ]
     },
     "execution_count": 33,
     "metadata": {},
     "output_type": "execute_result"
    }
   ],
   "source": [
    "dict(p.settings)"
   ]
  },
  {
   "cell_type": "code",
   "execution_count": 39,
   "id": "92dcc2e6-52ad-4706-af4e-10a4495fd6ba",
   "metadata": {},
   "outputs": [
    {
     "data": {
      "text/plain": [
       "''"
      ]
     },
     "execution_count": 39,
     "metadata": {},
     "output_type": "execute_result"
    }
   ],
   "source": [
    "Path(p.settings['logfile']).read_text()"
   ]
  },
  {
   "cell_type": "code",
   "execution_count": 35,
   "id": "dd8a93bb-7f3d-47e8-87e2-3c43dbe4cd9a",
   "metadata": {},
   "outputs": [],
   "source": [
    "sys.argv = '-d index.html'.split()"
   ]
  },
  {
   "cell_type": "code",
   "execution_count": 36,
   "id": "ce96b7e7-f37f-4d51-b425-8f30e15c5978",
   "metadata": {},
   "outputs": [],
   "source": [
    "p = Program()"
   ]
  },
  {
   "cell_type": "code",
   "execution_count": 37,
   "id": "29e91b78-cf09-4aa6-ac61-56b53fa6de04",
   "metadata": {},
   "outputs": [
    {
     "data": {
      "text/plain": [
       "ChainMap({'args': ['index.html'], 'debug': False, 'verbose': False, 'recursive': False, 'testing': False}, {}, <Section: DEFAULT>, <Section: ARGUMENTS>, <Section: ENVIRONMENT>, <Section: PROGRAM>)"
      ]
     },
     "execution_count": 37,
     "metadata": {},
     "output_type": "execute_result"
    }
   ],
   "source": [
    "p.settings"
   ]
  },
  {
   "cell_type": "code",
   "execution_count": 38,
   "id": "5d7e239b-4ef6-45b1-b44b-20464b17a6ba",
   "metadata": {},
   "outputs": [
    {
     "data": {
      "text/plain": [
       "{'logfile': 'log/program.log',\n",
       " 'program': 'hw',\n",
       " 'version': '4.2.0',\n",
       " 'packages_dir': \"'Development/py'\",\n",
       " 'args_json_file': 'etc/arguments.json',\n",
       " 'epilog': 'data/epilog.txt',\n",
       " 'args': ['index.html'],\n",
       " 'debug': False,\n",
       " 'verbose': False,\n",
       " 'recursive': False,\n",
       " 'testing': False}"
      ]
     },
     "execution_count": 38,
     "metadata": {},
     "output_type": "execute_result"
    }
   ],
   "source": [
    "dict(p.settings)"
   ]
  },
  {
   "cell_type": "code",
   "execution_count": 40,
   "id": "7201fee9-a052-47a3-95f2-834516e5aae1",
   "metadata": {},
   "outputs": [],
   "source": [
    "from driver import *"
   ]
  },
  {
   "cell_type": "code",
   "execution_count": 41,
   "id": "ec78e78d-4112-4133-9e3b-0ae3f2eb95be",
   "metadata": {},
   "outputs": [],
   "source": [
    "d = Driver(p.settings)"
   ]
  },
  {
   "cell_type": "code",
   "execution_count": 42,
   "id": "25548262-0363-460b-a758-e1c5b9e63dc0",
   "metadata": {},
   "outputs": [
    {
     "ename": "TypeError",
     "evalue": "do_help() missing 1 required positional argument: 'arg'",
     "output_type": "error",
     "traceback": [
      "\u001b[0;31m---------------------------------------------------------------------------\u001b[0m",
      "\u001b[0;31mTypeError\u001b[0m                                 Traceback (most recent call last)",
      "\u001b[0;32m/tmp/ipykernel_2626/3479959576.py\u001b[0m in \u001b[0;36m<module>\u001b[0;34m\u001b[0m\n\u001b[0;32m----> 1\u001b[0;31m \u001b[0md\u001b[0m\u001b[0;34m.\u001b[0m\u001b[0mdo_help\u001b[0m\u001b[0;34m(\u001b[0m\u001b[0;34m)\u001b[0m\u001b[0;34m\u001b[0m\u001b[0;34m\u001b[0m\u001b[0m\n\u001b[0m",
      "\u001b[0;31mTypeError\u001b[0m: do_help() missing 1 required positional argument: 'arg'"
     ]
    }
   ],
   "source": [
    "d.do_help()"
   ]
  },
  {
   "cell_type": "code",
   "execution_count": 43,
   "id": "a32a3e4e-a68e-4d65-a099-b38e31a12bc2",
   "metadata": {},
   "outputs": [
    {
     "name": "stdout",
     "output_type": "stream",
     "text": [
      "Exit the program. \n"
     ]
    }
   ],
   "source": [
    "d.do_help('quit')"
   ]
  },
  {
   "cell_type": "code",
   "execution_count": null,
   "id": "a63c7e57-fd72-471d-b837-e053b5cbc0d5",
   "metadata": {},
   "outputs": [],
   "source": []
  }
 ],
 "metadata": {
  "kernelspec": {
   "display_name": "Python 3 (ipykernel)",
   "language": "python",
   "name": "python3"
  },
  "language_info": {
   "codemirror_mode": {
    "name": "ipython",
    "version": 3
   },
   "file_extension": ".py",
   "mimetype": "text/x-python",
   "name": "python",
   "nbconvert_exporter": "python",
   "pygments_lexer": "ipython3",
   "version": "3.8.10"
  }
 },
 "nbformat": 4,
 "nbformat_minor": 5
}
