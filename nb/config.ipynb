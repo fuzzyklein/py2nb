{
 "cells": [
  {
   "cell_type": "markdown",
   "id": "ff7273b4-5360-4eb2-92d3-63fd76619d3a",
   "metadata": {},
   "source": [
    "# Configuration"
   ]
  },
  {
   "cell_type": "code",
   "execution_count": 20,
   "id": "5ae3eb9a-dddb-4a42-9401-051e410ab557",
   "metadata": {},
   "outputs": [
    {
     "data": {
      "text/plain": [
       "'3.8.10 (default, Jun  2 2021, 10:49:15) \\n[GCC 9.4.0]'"
      ]
     },
     "execution_count": 20,
     "metadata": {},
     "output_type": "execute_result"
    }
   ],
   "source": [
    "import os\n",
    "from pathlib import Path\n",
    "import pkgutil\n",
    "import site\n",
    "import sys\n",
    "sys.version"
   ]
  },
  {
   "cell_type": "code",
   "execution_count": 23,
   "id": "aa45a501-681f-4ec6-a099-586c66288360",
   "metadata": {},
   "outputs": [],
   "source": [
    "site.addsitedir(str(Path.home() / 'Development/hw-4.2.0/hw'))"
   ]
  },
  {
   "cell_type": "code",
   "execution_count": 24,
   "id": "505ea82d-d1d7-4a20-8c91-a5a0ac9deb57",
   "metadata": {},
   "outputs": [],
   "source": [
    "from tools import *"
   ]
  },
  {
   "cell_type": "code",
   "execution_count": 3,
   "id": "926b8352-ab6d-49e0-9b17-ced9ea818e5e",
   "metadata": {},
   "outputs": [],
   "source": [
    "# hide\n",
    "os.chdir('../')"
   ]
  },
  {
   "cell_type": "code",
   "execution_count": null,
   "id": "13fa78af-3122-47ac-bf35-e59f041f9d80",
   "metadata": {},
   "outputs": [],
   "source": [
    "class Configuration():\n",
    "    '''Class to handle program configuration.\n",
    "    '''\n",
    "    CONF_DIR_NAMES = ['etc', 'conf', 'cfg']\n",
    "    def __init__(self):\n",
    "        '''Scan the `etc`, `cfg` and `conf` directories for compatible files and parse them.\n",
    "        '''\n",
    "        for dirname in CONF_DIR_NAMES:\n",
    "            \n",
    "    "
   ]
  },
  {
   "cell_type": "code",
   "execution_count": null,
   "id": "a1e7cc59-c6a0-4ae3-9cea-067655014e1b",
   "metadata": {},
   "outputs": [],
   "source": []
  }
 ],
 "metadata": {
  "kernelspec": {
   "display_name": "Python 3 (ipykernel)",
   "language": "python",
   "name": "python3"
  },
  "language_info": {
   "codemirror_mode": {
    "name": "ipython",
    "version": 3
   },
   "file_extension": ".py",
   "mimetype": "text/x-python",
   "name": "python",
   "nbconvert_exporter": "python",
   "pygments_lexer": "ipython3",
   "version": "3.8.10"
  }
 },
 "nbformat": 4,
 "nbformat_minor": 5
}
