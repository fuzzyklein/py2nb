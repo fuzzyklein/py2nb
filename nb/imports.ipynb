{
 "cells": [
  {
   "cell_type": "markdown",
   "id": "8a537586-3ad7-4c8d-8f0c-7fad735a1e6b",
   "metadata": {},
   "source": [
    "# Imports"
   ]
  },
  {
   "cell_type": "code",
   "execution_count": 21,
   "id": "778ca51a-50ff-4883-ab5d-450b68b60388",
   "metadata": {},
   "outputs": [],
   "source": [
    "from bs4 import BeautifulSoup\n",
    "from cmd import Cmd\n",
    "columnize = Cmd().columnize\n",
    "import glob\n",
    "import importlib.resources\n",
    "from io import StringIO\n",
    "import os\n",
    "from os import chdir, curdir, listdir\n",
    "from pathlib import Path\n",
    "import pkg_resources\n",
    "from pprint import pprint as pp\n",
    "import re\n",
    "import requests\n",
    "import site\n",
    "import sys\n",
    "import zipfile"
   ]
  },
  {
   "cell_type": "code",
   "execution_count": 9,
   "id": "d35923b4-819b-45f9-867b-4bccfcd7ff29",
   "metadata": {},
   "outputs": [],
   "source": [
    "from pandas import DataFrame, Series"
   ]
  },
  {
   "cell_type": "code",
   "execution_count": 24,
   "id": "96359da9-489a-4a95-a802-14a7f8c48b55",
   "metadata": {},
   "outputs": [],
   "source": [
    "site.addsitedir(Path.home() / 'Development/hw-4.2.0/hw')"
   ]
  },
  {
   "cell_type": "code",
   "execution_count": 26,
   "id": "4c4a00a8-2b41-4ccc-be3e-b5bdd4c5973f",
   "metadata": {},
   "outputs": [
    {
     "ename": "KeyError",
     "evalue": "'hw'",
     "output_type": "error",
     "traceback": [
      "\u001b[0;31m---------------------------------------------------------------------------\u001b[0m",
      "\u001b[0;31mKeyError\u001b[0m                                  Traceback (most recent call last)",
      "\u001b[0;32m/tmp/ipykernel_75315/1562474644.py\u001b[0m in \u001b[0;36m<module>\u001b[0;34m\u001b[0m\n\u001b[0;32m----> 1\u001b[0;31m \u001b[0;34m[\u001b[0m\u001b[0mstr\u001b[0m\u001b[0;34m(\u001b[0m\u001b[0mr\u001b[0m\u001b[0;34m)\u001b[0m \u001b[0;32mfor\u001b[0m \u001b[0mr\u001b[0m \u001b[0;32min\u001b[0m \u001b[0mpkg_resources\u001b[0m\u001b[0;34m.\u001b[0m\u001b[0mworking_set\u001b[0m\u001b[0;34m.\u001b[0m\u001b[0mby_key\u001b[0m\u001b[0;34m[\u001b[0m\u001b[0;34m'hw'\u001b[0m\u001b[0;34m]\u001b[0m\u001b[0;34m.\u001b[0m\u001b[0mrequires\u001b[0m\u001b[0;34m(\u001b[0m\u001b[0;34m)\u001b[0m\u001b[0;34m]\u001b[0m\u001b[0;34m\u001b[0m\u001b[0;34m\u001b[0m\u001b[0m\n\u001b[0m",
      "\u001b[0;31mKeyError\u001b[0m: 'hw'"
     ]
    }
   ],
   "source": [
    "[str(r) for r in pkg_resources.working_set.by_key['hw'].requires()]"
   ]
  },
  {
   "cell_type": "code",
   "execution_count": 7,
   "id": "5d23457e-0a22-407e-bc0c-6723a5fce29c",
   "metadata": {},
   "outputs": [
    {
     "data": {
      "text/plain": [
       "['/home/fuzzy/Development/hw-4.2.0/nb',\n",
       " '/usr/lib/python38.zip',\n",
       " '/usr/lib/python3.8',\n",
       " '/usr/lib/python3.8/lib-dynload',\n",
       " '',\n",
       " '/home/fuzzy/.local/lib/python3.8/site-packages',\n",
       " '/usr/local/lib/python3.8/dist-packages',\n",
       " '/usr/lib/python3/dist-packages',\n",
       " '/home/fuzzy/.local/lib/python3.8/site-packages/IPython/extensions',\n",
       " '/home/fuzzy/.ipython',\n",
       " '/home/fuzzy/Development/hw-4.2.0']"
      ]
     },
     "execution_count": 7,
     "metadata": {},
     "output_type": "execute_result"
    }
   ],
   "source": [
    "sys.path"
   ]
  },
  {
   "cell_type": "markdown",
   "id": "408af7e5-29d5-45ab-816a-92a6aad2bd8a",
   "metadata": {},
   "source": [
    "## Get a List of Python Modules"
   ]
  },
  {
   "cell_type": "code",
   "execution_count": 18,
   "id": "01e0776a-9a66-47dc-b41a-df20d5437a10",
   "metadata": {},
   "outputs": [],
   "source": [
    "try:\n",
    "    src = Path(\"/usr/share/doc/python3.7-doc/html/py-modindex.html\").read_text()\n",
    "except:\n",
    "    try:\n",
    "        src = requests.get(\"https://docs.python.org/3/py-modindex.html\").text\n",
    "\n",
    "class BS(BeautifulSoup):\n",
    "    def __init__(self, s):\n",
    "        super().__init__(s, features=\"html.parser\")\n",
    "\n",
    "PYTHON_MODULES = None\n",
    "try:\n",
    "    PYTHON_MODULES = {a.text.split('.')[0] for a in BS(src).findAll(\"a\") if len(a.text) > 1 and not a.text[0].isupper()}\n",
    "except:\n",
    "    path = \"usr/lib/python3.8\"\n",
    "    PYTHON_MODULES = list(sorted([n for n in listdir(path) if not n.startswith(PERIOD)], key=str.lower))\n"
   ]
  },
  {
   "cell_type": "code",
   "execution_count": 19,
   "id": "1bf4c856-bbe7-4b76-a303-7d5c0534e256",
   "metadata": {},
   "outputs": [
    {
     "data": {
      "text/plain": [
       "{'3',\n",
       " '__future__',\n",
       " '__main__',\n",
       " '_thread',\n",
       " 'abc',\n",
       " 'aifc',\n",
       " 'argparse',\n",
       " 'array',\n",
       " 'ast',\n",
       " 'asynchat',\n",
       " 'asyncio',\n",
       " 'asyncore',\n",
       " 'atexit',\n",
       " 'audioop',\n",
       " 'base64',\n",
       " 'bdb',\n",
       " 'binascii',\n",
       " 'binhex',\n",
       " 'bisect',\n",
       " 'builtins',\n",
       " 'bz2',\n",
       " 'cProfile',\n",
       " 'calendar',\n",
       " 'cgi',\n",
       " 'cgitb',\n",
       " 'chunk',\n",
       " 'cmath',\n",
       " 'cmd',\n",
       " 'code',\n",
       " 'codecs',\n",
       " 'codeop',\n",
       " 'collections',\n",
       " 'colorsys',\n",
       " 'compileall',\n",
       " 'concurrent',\n",
       " 'configparser',\n",
       " 'contextlib',\n",
       " 'contextvars',\n",
       " 'copy',\n",
       " 'copyreg',\n",
       " 'crypt',\n",
       " 'csv',\n",
       " 'ctypes',\n",
       " 'curses',\n",
       " 'dataclasses',\n",
       " 'datetime',\n",
       " 'dbm',\n",
       " 'decimal',\n",
       " 'difflib',\n",
       " 'dis',\n",
       " 'distutils',\n",
       " 'doctest',\n",
       " 'email',\n",
       " 'encodings',\n",
       " 'ensurepip',\n",
       " 'enum',\n",
       " 'errno',\n",
       " 'faulthandler',\n",
       " 'fcntl',\n",
       " 'filecmp',\n",
       " 'fileinput',\n",
       " 'fnmatch',\n",
       " 'formatter',\n",
       " 'fractions',\n",
       " 'ftplib',\n",
       " 'functools',\n",
       " 'gc',\n",
       " 'getopt',\n",
       " 'getpass',\n",
       " 'gettext',\n",
       " 'glob',\n",
       " 'graphlib',\n",
       " 'grp',\n",
       " 'gzip',\n",
       " 'hashlib',\n",
       " 'heapq',\n",
       " 'hmac',\n",
       " 'html',\n",
       " 'http',\n",
       " 'imaplib',\n",
       " 'imghdr',\n",
       " 'imp',\n",
       " 'importlib',\n",
       " 'index',\n",
       " 'inspect',\n",
       " 'io',\n",
       " 'ipaddress',\n",
       " 'itertools',\n",
       " 'json',\n",
       " 'keyword',\n",
       " 'lib2to3',\n",
       " 'linecache',\n",
       " 'locale',\n",
       " 'logging',\n",
       " 'lzma',\n",
       " 'mailbox',\n",
       " 'mailcap',\n",
       " 'marshal',\n",
       " 'math',\n",
       " 'mimetypes',\n",
       " 'mmap',\n",
       " 'modulefinder',\n",
       " 'modules',\n",
       " 'msilib',\n",
       " 'msvcrt',\n",
       " 'multiprocessing',\n",
       " 'netrc',\n",
       " 'nis',\n",
       " 'nntplib',\n",
       " 'numbers',\n",
       " 'operator',\n",
       " 'optparse',\n",
       " 'os',\n",
       " 'ossaudiodev',\n",
       " 'parser',\n",
       " 'pathlib',\n",
       " 'pdb',\n",
       " 'pickle',\n",
       " 'pickletools',\n",
       " 'pipes',\n",
       " 'pkgutil',\n",
       " 'platform',\n",
       " 'plistlib',\n",
       " 'poplib',\n",
       " 'posix',\n",
       " 'pprint',\n",
       " 'profile',\n",
       " 'pstats',\n",
       " 'pty',\n",
       " 'pwd',\n",
       " 'py_compile',\n",
       " 'pyclbr',\n",
       " 'pydoc',\n",
       " 'queue',\n",
       " 'quopri',\n",
       " 'random',\n",
       " 're',\n",
       " 'readline',\n",
       " 'reprlib',\n",
       " 'resource',\n",
       " 'rlcompleter',\n",
       " 'runpy',\n",
       " 'sched',\n",
       " 'secrets',\n",
       " 'select',\n",
       " 'selectors',\n",
       " 'shelve',\n",
       " 'shlex',\n",
       " 'shutil',\n",
       " 'signal',\n",
       " 'site',\n",
       " 'smtpd',\n",
       " 'smtplib',\n",
       " 'sndhdr',\n",
       " 'socket',\n",
       " 'socketserver',\n",
       " 'spwd',\n",
       " 'sqlite3',\n",
       " 'ssl',\n",
       " 'stat',\n",
       " 'statistics',\n",
       " 'string',\n",
       " 'stringprep',\n",
       " 'struct',\n",
       " 'subprocess',\n",
       " 'sunau',\n",
       " 'symbol',\n",
       " 'symtable',\n",
       " 'sys',\n",
       " 'sysconfig',\n",
       " 'syslog',\n",
       " 'tabnanny',\n",
       " 'tarfile',\n",
       " 'telnetlib',\n",
       " 'tempfile',\n",
       " 'termios',\n",
       " 'test',\n",
       " 'textwrap',\n",
       " 'threading',\n",
       " 'time',\n",
       " 'timeit',\n",
       " 'tkinter',\n",
       " 'token',\n",
       " 'tokenize',\n",
       " 'trace',\n",
       " 'traceback',\n",
       " 'tracemalloc',\n",
       " 'tty',\n",
       " 'turtle',\n",
       " 'turtledemo',\n",
       " 'types',\n",
       " 'typing',\n",
       " 'unicodedata',\n",
       " 'unittest',\n",
       " 'urllib',\n",
       " 'uu',\n",
       " 'uuid',\n",
       " 'venv',\n",
       " 'warnings',\n",
       " 'wave',\n",
       " 'weakref',\n",
       " 'webbrowser',\n",
       " 'winreg',\n",
       " 'winsound',\n",
       " 'wsgiref',\n",
       " 'xdrlib',\n",
       " 'xml',\n",
       " 'xmlrpc',\n",
       " 'zipapp',\n",
       " 'zipfile',\n",
       " 'zipimport',\n",
       " 'zlib',\n",
       " 'zoneinfo'}"
      ]
     },
     "execution_count": 19,
     "metadata": {},
     "output_type": "execute_result"
    }
   ],
   "source": [
    "PYTHON_MODULES"
   ]
  },
  {
   "cell_type": "markdown",
   "id": "ae8c662e-b7e4-4573-8aad-888e1fcea4ca",
   "metadata": {},
   "source": [
    "## Examine the Contents of a `.zip` File"
   ]
  },
  {
   "cell_type": "code",
   "execution_count": null,
   "id": "7b3d45ce-69d8-411b-84aa-27a6251cab18",
   "metadata": {},
   "outputs": [],
   "source": [
    "import zipfile"
   ]
  },
  {
   "cell_type": "markdown",
   "id": "966f5b5d-0847-4be4-907e-36a67e22cd44",
   "metadata": {},
   "source": [
    "## Make a List of Python Distribution Modules"
   ]
  },
  {
   "cell_type": "code",
   "execution_count": 10,
   "id": "eb0ba344-40af-472c-b590-887ce85207c1",
   "metadata": {},
   "outputs": [],
   "source": [
    "path = Series(filter(lambda p: p.exists(),               # drop paths that don't exist\n",
    "                     filter(lambda s: bool(len(s.name)), # drop the empty `str`s\n",
    "                            map(lambda s: Path(s),       # convert `str` to `Path`\n",
    "                                sys.path\n",
    "                               ))))"
   ]
  },
  {
   "cell_type": "code",
   "execution_count": 11,
   "id": "c8b8c912-a2f4-40e3-90dd-e49c4af712e9",
   "metadata": {},
   "outputs": [],
   "source": [
    "path = Series([p for p in\n",
    "               [Path(s) for s in\n",
    "                [s for s in sys.path if s]\n",
    "               ] if p.exists()\n",
    "              ])"
   ]
  },
  {
   "cell_type": "code",
   "execution_count": 12,
   "id": "d999dd11-2842-4e95-a606-28c3966d5df9",
   "metadata": {},
   "outputs": [
    {
     "data": {
      "text/plain": [
       "0                  /home/fuzzy/Development/hw-4.2.0/nb\n",
       "1                                   /usr/lib/python3.8\n",
       "2                       /usr/lib/python3.8/lib-dynload\n",
       "3       /home/fuzzy/.local/lib/python3.8/site-packages\n",
       "4               /usr/local/lib/python3.8/dist-packages\n",
       "5                       /usr/lib/python3/dist-packages\n",
       "6    /home/fuzzy/.local/lib/python3.8/site-packages...\n",
       "7                                 /home/fuzzy/.ipython\n",
       "8                     /home/fuzzy/Development/hw-4.2.0\n",
       "dtype: object"
      ]
     },
     "execution_count": 12,
     "metadata": {},
     "output_type": "execute_result"
    }
   ],
   "source": [
    "path"
   ]
  },
  {
   "cell_type": "code",
   "execution_count": null,
   "id": "5c1e717d-8428-48b7-99f8-a9c438da9e55",
   "metadata": {
    "scrolled": true,
    "tags": []
   },
   "outputs": [],
   "source": [
    "print(Path.cwd())\n",
    "list(os.walk('.'))"
   ]
  },
  {
   "cell_type": "code",
   "execution_count": null,
   "id": "f844994c-8e62-44e6-9a43-205708de39b8",
   "metadata": {},
   "outputs": [],
   "source": [
    "def get_mod_names(f=curdir, output=False):\n",
    "    sio = StringIO()\n",
    "    for w in os.walk(f):\n",
    "        if w[0] == '.' or not Path(w[0]).stem[0] in {'.'}:\n",
    "            for s in w[2]:\n",
    "                if s.endswith('.py') and not (s.startswith('.')):\n",
    "                    print((w[0].replace('/', '.').lstrip('.') + '.' + s).lstrip('.')[:-3], file=sio)\n",
    "    s = Series([t for t in sio.getvalue().split('\\n') if t])\n",
    "    if output: print(s)\n",
    "    return s"
   ]
  },
  {
   "cell_type": "code",
   "execution_count": null,
   "id": "a4ef8457-8a72-479f-ada3-27a692c4bb12",
   "metadata": {},
   "outputs": [],
   "source": [
    "get_mod_names(output=True)"
   ]
  },
  {
   "cell_type": "code",
   "execution_count": null,
   "id": "67d9151c-2f21-4da4-9a23-3fc282a7d738",
   "metadata": {},
   "outputs": [],
   "source": [
    "def get_sys_path_mods(output=False):\n",
    "    mods = { 'python' : set(), 'dist' : set(), 'local' : set() }\n",
    "    path = Series([p for p in\n",
    "                   [Path(s) for s in\n",
    "                    [s for s in sys.path if s]\n",
    "                   ] if p.exists()\n",
    "                  ])\n",
    "    print(path)\n",
    "    for p in path:\n",
    "        n = get_mod_names(p)\n",
    "        "
   ]
  },
  {
   "cell_type": "code",
   "execution_count": null,
   "id": "51121775-0dd1-4cbe-a544-2a30a8bc2ce6",
   "metadata": {},
   "outputs": [],
   "source": [
    "get_sys_path_mods()"
   ]
  },
  {
   "cell_type": "code",
   "execution_count": null,
   "id": "d62dfd8e-0cc8-4449-aa4e-e89a50e5d2e8",
   "metadata": {},
   "outputs": [],
   "source": [
    "columnize(sorted(listdir(path[6])))"
   ]
  },
  {
   "cell_type": "code",
   "execution_count": null,
   "id": "ee30d2ce-b895-43f0-b00e-5ec9eaa19512",
   "metadata": {},
   "outputs": [],
   "source": [
    "from pandas import DataFrame\n",
    "DataFrame(os.walk('.'))"
   ]
  },
  {
   "cell_type": "code",
   "execution_count": null,
   "id": "42ee3a65-330f-462a-9ec1-35dd6a47cc5b",
   "metadata": {},
   "outputs": [],
   "source": [
    "try:\n",
    "    src = requests.get(\"https://docs.python.org/3/py-modindex.html\").text\n",
    "except:\n",
    "    src = Path(\"/usr/share/doc/python3.7-doc/html\").read_text()\n",
    "\n",
    "class BS(BeautifulSoup):\n",
    "    def __init__(self, s):\n",
    "        super().__init__(s, features=\"html.parser\")\n",
    "\n",
    "PYTHON_MODULES = None\n",
    "try:\n",
    "    PYTHON_MODULES = {a.text.split('.')[0] for a in BS(src).findAll(\"a\") if len(a.text) > 1 and not a.text[0].isupper()}\n",
    "except:\n",
    "    path = site.USER_SITE\n",
    "    PYTHON_MODULES = list(sorted([n for n in listdir(path) if not n.startswith(PERIOD)], key=str.lower))\n",
    "\n",
    "PACKAGE_MODULES = sorted([re.sub(\".py$\", \"\", n) for n in listdir(site.USER_SITE) if not re.search(\".*-info\", n)])\n"
   ]
  },
  {
   "cell_type": "code",
   "execution_count": null,
   "id": "934d45cb-ddbd-4702-a7e1-f5396c2b9f7c",
   "metadata": {},
   "outputs": [],
   "source": [
    "help(os.walk)"
   ]
  },
  {
   "cell_type": "code",
   "execution_count": null,
   "id": "7fb5325c-32ad-4da2-a5bf-cf75871c3a9c",
   "metadata": {},
   "outputs": [],
   "source": [
    "def get_imports(path=Path.cwd(), recursive=True):\n",
    "    \"\"\" Return a `set` containing the names of the modules imported by `path`.\n",
    "    \"\"\"\n",
    "    if type(path) is str: path = Path(path)\n",
    "    FILES = glob.iglob(str(path / \"*.py\"), recursive=recursive)\n",
    "    LOCAL_MODULES = sorted([n for n in FILES if not n.startswith('.')], key=str.lower)\n",
    "    # print(f'{LOCAL_MODULES=}')\n",
    "    results = [set(), set(), set()]\n",
    "    if type(path) is str:\n",
    "        path = Path(path)\n",
    "    if path.is_dir():\n",
    "        for f in glob.iglob(str(path / \"*.py\")):\n",
    "            result = get_imports(f)\n",
    "            results = [r.union(result[i]) for i, r in enumerate(results)]\n",
    "    else:\n",
    "        result = set()\n",
    "        lines = path.read_text().split('\\n')\n",
    "        regex = re.compile(\"\\s*import (\\w*)|\\s*from (\\w*)\")\n",
    "        for s in lines:\n",
    "            m = regex.match(s)\n",
    "            if m:\n",
    "                i = 1\n",
    "                while not m.group(i):\n",
    "                    i += 1\n",
    "                assert i < 4\n",
    "                word = m.group(i)\n",
    "                if word:\n",
    "                    m2 = re.search(r'(\\w*)\\.\\w*', word)\n",
    "                    if m2:\n",
    "                        word = m2.group(1)\n",
    "                    result.add(word)\n",
    "        for r in result:\n",
    "            if r in PYTHON_MODULES:\n",
    "                results[0].add(r)\n",
    "            elif r in LOCAL_MODULES:\n",
    "                results[2].add(r)\n",
    "            else:\n",
    "                # if not r == \"py\"\n",
    "                results[1].add(r)\n",
    "        results = [sorted(list(r)) for r in results]\n",
    "    return list(map(lambda s: list(s), results))\n",
    "\n",
    "def print_imports(path=Path.cwd()):\n",
    "    results = get_imports(path)\n",
    "    if len(results[0]):\n",
    "        print(\"Python Modules:\")\n",
    "        print()\n",
    "        columnize(results[0])\n",
    "        print()\n",
    "    if len(results[1]):\n",
    "        print(\"Packages:\")\n",
    "        print()\n",
    "        columnize(results[1])\n",
    "        print()\n",
    "    if len(results[2]):\n",
    "        print(\"Local Modules:\")\n",
    "        print()\n",
    "        columnize(results[2])\n",
    "        print()\n"
   ]
  },
  {
   "cell_type": "code",
   "execution_count": null,
   "id": "fae56fff-aeff-4e1a-8f45-1f2446891571",
   "metadata": {},
   "outputs": [],
   "source": [
    "print_imports('../hw')"
   ]
  },
  {
   "cell_type": "code",
   "execution_count": null,
   "id": "ca0b3299-9a52-41fc-aa28-db4e194dbb35",
   "metadata": {},
   "outputs": [],
   "source": []
  },
  {
   "cell_type": "code",
   "execution_count": null,
   "id": "4cc59e2f-7036-45ec-bfac-91b34111ba19",
   "metadata": {},
   "outputs": [],
   "source": [
    "!pwd"
   ]
  },
  {
   "cell_type": "code",
   "execution_count": null,
   "id": "90fb9f71-28c7-4801-8eda-049ea3cad4a8",
   "metadata": {},
   "outputs": [],
   "source": []
  }
 ],
 "metadata": {
  "kernelspec": {
   "display_name": "Python 3 (ipykernel)",
   "language": "python",
   "name": "python3"
  },
  "language_info": {
   "codemirror_mode": {
    "name": "ipython",
    "version": 3
   },
   "file_extension": ".py",
   "mimetype": "text/x-python",
   "name": "python",
   "nbconvert_exporter": "python",
   "pygments_lexer": "ipython3",
   "version": "3.8.10"
  }
 },
 "nbformat": 4,
 "nbformat_minor": 5
}
