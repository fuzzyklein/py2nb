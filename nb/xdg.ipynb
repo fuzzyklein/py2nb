{
 "cells": [
  {
   "cell_type": "code",
   "execution_count": 24,
   "id": "172d8e9e-889e-439b-8b7f-37078a77963f",
   "metadata": {},
   "outputs": [],
   "source": [
    "from functools import partial\n",
    "from io import StringIO\n",
    "from os import chdir, listdir\n",
    "import pkgutil\n",
    "import xdg"
   ]
  },
  {
   "cell_type": "code",
   "execution_count": 3,
   "id": "e4bfd0cc-79a9-4b59-b461-943171cc5f58",
   "metadata": {},
   "outputs": [],
   "source": [
    "#hide\n",
    "chdir('../')"
   ]
  },
  {
   "cell_type": "code",
   "execution_count": 4,
   "id": "1f554748-35e8-48e4-a7e8-61666dee3bed",
   "metadata": {},
   "outputs": [],
   "source": [
    "from hw.tools import *"
   ]
  },
  {
   "cell_type": "code",
   "execution_count": 6,
   "id": "0f331e88-7ce1-4d1b-96d8-ef3bf52296e8",
   "metadata": {},
   "outputs": [
    {
     "name": "stdout",
     "output_type": "stream",
     "text": [
      "close     errors    isatty          readable   seekable  write     \n",
      "closed    fileno    line_buffering  readline   tell      writelines\n",
      "detach    flush     newlines        readlines  truncate\n",
      "encoding  getvalue  read            seek       writable\n"
     ]
    }
   ],
   "source": [
    "public(StringIO)"
   ]
  },
  {
   "cell_type": "code",
   "execution_count": 7,
   "id": "d46efcd6-4b08-4603-889e-a2bef2cc7a18",
   "metadata": {},
   "outputs": [
    {
     "name": "stdout",
     "output_type": "stream",
     "text": [
      "Help on method_descriptor:\n",
      "\n",
      "write(self, s, /)\n",
      "    Write string to file.\n",
      "    \n",
      "    Returns the number of characters written, which is always equal to\n",
      "    the length of the string.\n",
      "\n"
     ]
    }
   ],
   "source": [
    "help(StringIO.write)"
   ]
  },
  {
   "cell_type": "code",
   "execution_count": null,
   "id": "9be38375-e126-43f5-8bfa-a88216c2a3ba",
   "metadata": {},
   "outputs": [],
   "source": [
    "!pwd"
   ]
  },
  {
   "cell_type": "code",
   "execution_count": null,
   "id": "c4bf218d-dd74-40e9-8215-7843956e719d",
   "metadata": {},
   "outputs": [],
   "source": [
    "dir(xdg)"
   ]
  },
  {
   "cell_type": "code",
   "execution_count": null,
   "id": "d9e1801a-899d-4954-bc98-6d12eaf73549",
   "metadata": {},
   "outputs": [],
   "source": [
    "xdg.__path__"
   ]
  },
  {
   "cell_type": "code",
   "execution_count": 17,
   "id": "ba417fcd-cb0a-4375-829f-0a5e3c45e3de",
   "metadata": {},
   "outputs": [
    {
     "name": "stdout",
     "output_type": "stream",
     "text": [
      "BaseDirectory \n",
      "Config \n",
      "DesktopEntry \n",
      "Exceptions \n",
      "IconTheme \n",
      "IniFile \n",
      "Locale \n",
      "Menu \n",
      "MenuEditor \n",
      "Mime \n",
      "RecentFiles \n",
      "util \n",
      "\n"
     ]
    }
   ],
   "source": [
    "s = StringIO()\n",
    "for m in pkgutil.walk_packages(xdg.__path__):\n",
    "    # print(m)\n",
    "    s.write(f\"{m.name} {(' (Package)' if m.ispkg else '')}\\n\")\n",
    "print(s.getvalue())"
   ]
  },
  {
   "cell_type": "code",
   "execution_count": 25,
   "id": "c1a10c70-b97e-4f79-8a26-4577d466eed9",
   "metadata": {},
   "outputs": [
    {
     "name": "stdout",
     "output_type": "stream",
     "text": [
      "BaseDirectory \n",
      "Config \n",
      "DesktopEntry \n",
      "Exceptions \n",
      "IconTheme \n",
      "IniFile \n",
      "Locale \n",
      "Menu \n",
      "MenuEditor \n",
      "Mime \n",
      "RecentFiles \n",
      "util \n",
      "\n"
     ]
    }
   ],
   "source": [
    "s = StringIO()\n",
    "sprint = partial(print, file=s)\n",
    "for m in pkgutil.walk_packages(xdg.__path__):\n",
    "    # print(m)\n",
    "    sprint(f\"{m.name} {(' (Package)' if m.ispkg else '')}\")\n",
    "print(s.getvalue())"
   ]
  },
  {
   "cell_type": "code",
   "execution_count": 15,
   "id": "a9f91285-0ac2-4849-a376-25950e3c738e",
   "metadata": {},
   "outputs": [
    {
     "name": "stdout",
     "output_type": "stream",
     "text": [
      "PY3  sys  u  which\n"
     ]
    }
   ],
   "source": [
    "import xdg.util\n",
    "public(xdg.util)"
   ]
  },
  {
   "cell_type": "code",
   "execution_count": 5,
   "id": "b1fd7322-9f41-409a-a63d-c3da522953c6",
   "metadata": {},
   "outputs": [
    {
     "name": "stdout",
     "output_type": "stream",
     "text": [
      "get_runtime_dir    os                stat             xdg_data_dirs\n",
      "load_config_paths  save_cache_path   xdg_cache_home   xdg_data_home\n",
      "load_data_paths    save_config_path  xdg_config_dirs\n",
      "load_first_config  save_data_path    xdg_config_home\n"
     ]
    }
   ],
   "source": [
    "import xdg.BaseDirectory\n",
    "public(xdg.BaseDirectory)"
   ]
  },
  {
   "cell_type": "code",
   "execution_count": 18,
   "id": "5d536148-a1ba-4b74-bb5a-4f992aa9924f",
   "metadata": {},
   "outputs": [
    {
     "data": {
      "text/plain": [
       "['/home/fuzzy/.config', '/etc/xdg/xdg-ubuntustudio', '/etc/xdg', '/etc/xdg']"
      ]
     },
     "execution_count": 18,
     "metadata": {},
     "output_type": "execute_result"
    }
   ],
   "source": [
    "xdg.BaseDirectory.xdg_config_dirs"
   ]
  },
  {
   "cell_type": "code",
   "execution_count": 19,
   "id": "312f866b-1b04-4fe9-b3b9-2db8ac970995",
   "metadata": {},
   "outputs": [
    {
     "name": "stdout",
     "output_type": "stream",
     "text": [
      "0ad\t     matplotlib       qt5ct\t      update-notifier\n",
      "Atom\t     mimeapps.list    QtProject.conf  user-dirs.dirs\n",
      "dconf\t     Mousepad\t      spyder-py3      user-dirs.locale\n",
      "gtk-3.0      pavucontrol.ini  Thunar\t      vlc\n",
      "kdeconnect   PawelStolowski   transmission    vmpk.sourceforge.net\n",
      "libreoffice  pulse\t      Trolltech.conf  xfce4\n"
     ]
    }
   ],
   "source": [
    "! ls ~/.config"
   ]
  },
  {
   "cell_type": "code",
   "execution_count": 20,
   "id": "98e3d2ce-2bfa-46f8-b9fc-095980a0891c",
   "metadata": {},
   "outputs": [
    {
     "name": "stdout",
     "output_type": "stream",
     "text": [
      "accept-languages.codes\t\tkritarc\t\t   ui\n",
      "autostart\t\t\tkshorturifilterrc  user-dirs.conf\n",
      "kdenlive_keyboardschemes.knsrc\tmenus\t\t   user-dirs.defaults\n",
      "kdenlive_renderprofiles.knsrc\tqt5ct\t\t   xdg-ubuntustudio\n",
      "kdenlive_titles.knsrc\t\tsystemd\t\t   xfce4\n",
      "kdenlive_wipes.knsrc\t\tThunar\n",
      "khtmlrc\t\t\t\ttumbler\n"
     ]
    }
   ],
   "source": [
    "! ls /etc/xdg"
   ]
  },
  {
   "cell_type": "code",
   "execution_count": 21,
   "id": "18f53125-a24a-445d-85f0-1c79906b9c26",
   "metadata": {},
   "outputs": [
    {
     "data": {
      "text/plain": [
       "'/home/fuzzy/.config'"
      ]
     },
     "execution_count": 21,
     "metadata": {},
     "output_type": "execute_result"
    }
   ],
   "source": [
    "xdg.BaseDirectory.xdg_config_home"
   ]
  },
  {
   "cell_type": "code",
   "execution_count": 22,
   "id": "8c5eb144-a7db-49db-a182-af214fbfb87e",
   "metadata": {},
   "outputs": [
    {
     "data": {
      "text/plain": [
       "'/home/fuzzy/.local/share'"
      ]
     },
     "execution_count": 22,
     "metadata": {},
     "output_type": "execute_result"
    }
   ],
   "source": [
    "xdg.BaseDirectory.xdg_data_home"
   ]
  },
  {
   "cell_type": "code",
   "execution_count": null,
   "id": "2b5047c7-4cc4-459f-949a-846dd1b32c3f",
   "metadata": {},
   "outputs": [],
   "source": []
  }
 ],
 "metadata": {
  "kernelspec": {
   "display_name": "Python 3 (ipykernel)",
   "language": "python",
   "name": "python3"
  },
  "language_info": {
   "codemirror_mode": {
    "name": "ipython",
    "version": 3
   },
   "file_extension": ".py",
   "mimetype": "text/x-python",
   "name": "python",
   "nbconvert_exporter": "python",
   "pygments_lexer": "ipython3",
   "version": "3.8.10"
  }
 },
 "nbformat": 4,
 "nbformat_minor": 5
}
