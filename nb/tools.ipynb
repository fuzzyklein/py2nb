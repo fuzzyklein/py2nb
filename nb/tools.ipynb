{
 "cells": [
  {
   "cell_type": "code",
   "execution_count": 3,
   "id": "c911be76-8587-4b7b-8938-88f67e037885",
   "metadata": {},
   "outputs": [],
   "source": [
    "import gzip\n",
    "import os\n",
    "from os import chdir\n",
    "from pandas import DataFrame, Series\n",
    "from subprocess import check_output\n",
    "import sys\n",
    "import tarfile\n",
    "from tempfile import NamedTemporaryFile as TempFile\n",
    "from pathlib import Path\n",
    "\n",
    "DEVELOP_DIRS  = {'source code' : 'src',\n",
    "                 'header files' : 'include',\n",
    "                 'object file' : 'lib',\n",
    "                 'uninstalled' : 'Source',\n",
    "                 'installed' : 'Archive',\n",
    "                 'executables' : 'bin',\n",
    "                 'temp' : 'tmp',\n",
    "                 'devel' : 'Development'\n",
    "                }\n",
    "\n",
    "HOME = Path.home()\n",
    "\n",
    "DEVELOP_DIRS = { k : str(HOME / v) for k, v in DEVELOP_DIRS.items() }\n",
    "\n",
    "VERSION = '4.2.0'\n",
    "packages = ['hw', 'files', 'tools', 'ws']\n",
    "for p in packages:\n",
    "    s = f'{DEVELOP_DIRS[\"devel\"]}/{p}-{VERSION}'\n",
    "    if not s in sys.path:\n",
    "        sys.path.insert(0, s)\n",
    "\n"
   ]
  },
  {
   "cell_type": "code",
   "execution_count": 2,
   "id": "d6c245a2-6411-427d-8c79-cdc4fdc06906",
   "metadata": {
    "scrolled": true,
    "tags": []
   },
   "outputs": [
    {
     "data": {
      "text/plain": [
       "['/home/fuzzy/Development/ws-4.2.0',\n",
       " '/home/fuzzy/Development/files-4.2.0',\n",
       " '/home/fuzzy/Development/hw-4.2.0',\n",
       " '/home/fuzzy/Development/tools-4.2.0',\n",
       " '/usr/lib/python38.zip',\n",
       " '/usr/lib/python3.8',\n",
       " '/usr/lib/python3.8/lib-dynload',\n",
       " '',\n",
       " '/home/fuzzy/.local/lib/python3.8/site-packages',\n",
       " '/usr/local/lib/python3.8/dist-packages',\n",
       " '/usr/lib/python3/dist-packages',\n",
       " '/home/fuzzy/.local/lib/python3.8/site-packages/IPython/extensions',\n",
       " '/home/fuzzy/.ipython']"
      ]
     },
     "execution_count": 2,
     "metadata": {},
     "output_type": "execute_result"
    }
   ],
   "source": [
    "sys.path #TODO: Find out why the current directory is in here twice."
   ]
  },
  {
   "cell_type": "markdown",
   "id": "3ca973a5-f98d-48b3-a402-4cbc52e57f19",
   "metadata": {},
   "source": [
    "## Get the Public Members of an Object"
   ]
  },
  {
   "cell_type": "code",
   "execution_count": 2,
   "id": "865a9033-4b08-40a4-9c69-5249499ee0dc",
   "metadata": {},
   "outputs": [
    {
     "name": "stdout",
     "output_type": "stream",
     "text": [
      "/home/fuzzy/Projects/develop-4.2.0/hw-4.2.0/nb\n"
     ]
    }
   ],
   "source": [
    "!pwd"
   ]
  },
  {
   "cell_type": "code",
   "execution_count": 1,
   "id": "45d6826a-830b-4c16-b0aa-630d7b897f29",
   "metadata": {},
   "outputs": [
    {
     "ename": "ModuleNotFoundError",
     "evalue": "No module named 'tools'",
     "output_type": "error",
     "traceback": [
      "\u001b[0;31m---------------------------------------------------------------------------\u001b[0m",
      "\u001b[0;31mModuleNotFoundError\u001b[0m                       Traceback (most recent call last)",
      "\u001b[0;32m/tmp/ipykernel_102338/413295013.py\u001b[0m in \u001b[0;36m<module>\u001b[0;34m\u001b[0m\n\u001b[0;32m----> 1\u001b[0;31m \u001b[0;32mfrom\u001b[0m \u001b[0mtools\u001b[0m \u001b[0;32mimport\u001b[0m \u001b[0;34m*\u001b[0m\u001b[0;34m\u001b[0m\u001b[0;34m\u001b[0m\u001b[0m\n\u001b[0m",
      "\u001b[0;31mModuleNotFoundError\u001b[0m: No module named 'tools'"
     ]
    }
   ],
   "source": [
    "from tools import *"
   ]
  },
  {
   "cell_type": "markdown",
   "id": "9f38b574-bf00-48a8-8d45-86f2b8446589",
   "metadata": {},
   "source": [
    "```python\n",
    "from cmd import Cmd\n",
    "import re\n",
    "def public(obj):\n",
    "    Cmd().columnize([member for member in dir(obj) if not re.match('_', member)])\n",
    "```"
   ]
  },
  {
   "cell_type": "markdown",
   "id": "57d16abf-6846-4cb8-bc7a-9f2cc2486334",
   "metadata": {},
   "source": [
    "## Build and Install a Source Code Package"
   ]
  },
  {
   "cell_type": "code",
   "execution_count": null,
   "id": "11f6b9b3-25d9-4c7d-9f3e-d9b52b1798b9",
   "metadata": {},
   "outputs": [],
   "source": [
    "import netsnmp"
   ]
  },
  {
   "cell_type": "code",
   "execution_count": 3,
   "id": "6eef6556-8ec1-45ee-bae6-c35629bb2fa7",
   "metadata": {},
   "outputs": [
    {
     "name": "stdout",
     "output_type": "stream",
     "text": [
      "net-snmp-5.9.1.tar.gz\n",
      "net-snmp-5.9.1.tar.gz.asc\n",
      "net-snmp-admin.asc\n"
     ]
    }
   ],
   "source": [
    "! ls /home/fuzzy/Source | grep net-snmp"
   ]
  },
  {
   "cell_type": "code",
   "execution_count": 4,
   "id": "fb3f3e0f-155b-4322-a3a1-033bdadc3d4a",
   "metadata": {},
   "outputs": [],
   "source": [
    "PKG_STEM = 'net-snmp'\n",
    "PKG_VERSION = '5.9.1'\n",
    "PKG_EXT = 'tar.gz'\n",
    "SIG_EXT = 'asc'\n",
    "KEY_NAME = 'admin'\n",
    "PACKAGE = f'{PKG_STEM}-{PKG_VERSION}.{PKG_EXT}'\n",
    "SIGFILE = f'{PACKAGE}.{SIG_EXT}'\n",
    "KEYFILE = f'{PKG_STEM}-{KEY_NAME}.{SIG_EXT}'"
   ]
  },
  {
   "cell_type": "code",
   "execution_count": 5,
   "id": "b197da94-3937-4a50-acc5-0fc5846efe52",
   "metadata": {},
   "outputs": [
    {
     "name": "stdout",
     "output_type": "stream",
     "text": [
      "Package: net-snmp-5.9.1.tar.gz\n",
      "Signature File: net-snmp-5.9.1.tar.gz.asc\n",
      "Key File: net-snmp-admin.asc\n"
     ]
    }
   ],
   "source": [
    "print(f'Package: {PACKAGE}\\nSignature File: {SIGFILE}\\nKey File: {KEYFILE}')"
   ]
  },
  {
   "cell_type": "code",
   "execution_count": 7,
   "id": "cffd8bcd-d1b1-45fa-88ef-2c1875ea5ab2",
   "metadata": {},
   "outputs": [],
   "source": [
    "s = check_output('locate *.h'.split(), encoding='utf-8').split('\\n')"
   ]
  },
  {
   "cell_type": "code",
   "execution_count": 8,
   "id": "cdf0b258-cbe0-46d9-9cbb-3e6fe2720343",
   "metadata": {},
   "outputs": [],
   "source": [
    "folders = list()\n",
    "split_strs = list(map(lambda s: '/'.join(s.split('/')[:3]), s))"
   ]
  },
  {
   "cell_type": "code",
   "execution_count": 9,
   "id": "9ccb7367-ec85-4e97-8ca1-cfc53ead3a94",
   "metadata": {},
   "outputs": [
    {
     "name": "stdout",
     "output_type": "stream",
     "text": [
      "/home/fuzzy\n"
     ]
    }
   ],
   "source": [
    "print(split_strs[0])"
   ]
  },
  {
   "cell_type": "code",
   "execution_count": 10,
   "id": "241ed617-32af-49bf-a441-9cbb90baf5ae",
   "metadata": {},
   "outputs": [
    {
     "name": "stdout",
     "output_type": "stream",
     "text": [
      "/home/fuzzy/.local/lib/python3.8/site-packages/debugpy/_vendored/pydevd/_pydevd_frame_eval/release_mem.h\n"
     ]
    }
   ],
   "source": [
    "print (s[0])"
   ]
  },
  {
   "cell_type": "code",
   "execution_count": 11,
   "id": "746ce690-b344-4908-8a52-9dfc1f1656ca",
   "metadata": {},
   "outputs": [],
   "source": [
    "from pandas import Series\n",
    "ser = Series(split_strs).unique()"
   ]
  },
  {
   "cell_type": "code",
   "execution_count": 12,
   "id": "8e8652a9-ba7e-474d-9283-f3651f91f2e9",
   "metadata": {},
   "outputs": [
    {
     "name": "stdout",
     "output_type": "stream",
     "text": [
      "array(['/home/fuzzy', '/snap/blender', '/snap/core18', '/snap/core20',\n",
      "       '/snap/darktable', '/snap/freecad', '/snap/gimp', '/snap/inkscape',\n",
      "       '/snap/openscad', '/snap/snap-store', '/usr/include', '/usr/lib',\n",
      "       '/usr/local', '/usr/share', '/usr/src', ''], dtype=object)\n"
     ]
    }
   ],
   "source": [
    "from pprint import pprint as pp\n",
    "pp(ser)"
   ]
  },
  {
   "cell_type": "code",
   "execution_count": null,
   "id": "48974f5d-8a68-4879-8933-21e3a4481812",
   "metadata": {},
   "outputs": [],
   "source": [
    "! ls /\n",
    "len(ser)"
   ]
  },
  {
   "cell_type": "code",
   "execution_count": null,
   "id": "8dbc532f-a62c-49f6-a474-8994f0066497",
   "metadata": {},
   "outputs": [],
   "source": [
    "! ls /usr/local"
   ]
  },
  {
   "cell_type": "code",
   "execution_count": null,
   "id": "77bd4d27-fd22-42e8-941a-4b8256b8732d",
   "metadata": {},
   "outputs": [],
   "source": [
    "!ls /usr/local/include"
   ]
  },
  {
   "cell_type": "code",
   "execution_count": null,
   "id": "fc68f10b-22c9-459e-a3e1-67f39a6d5703",
   "metadata": {},
   "outputs": [],
   "source": [
    "!ls /usr/local/src"
   ]
  },
  {
   "cell_type": "code",
   "execution_count": null,
   "id": "5d988a12-de46-4f62-b9b8-1bf2e53f1038",
   "metadata": {},
   "outputs": [],
   "source": [
    "%ls /usr/local/bin"
   ]
  },
  {
   "cell_type": "code",
   "execution_count": null,
   "id": "38e4f992-9465-41bb-bae0-4ff5ca23c4cb",
   "metadata": {},
   "outputs": [],
   "source": [
    "! echo $PATH"
   ]
  },
  {
   "cell_type": "code",
   "execution_count": null,
   "id": "5272ba92-0623-4e28-8bc8-3a81ec3ed09f",
   "metadata": {},
   "outputs": [],
   "source": [
    "! gpg --list-public-keys"
   ]
  },
  {
   "cell_type": "code",
   "execution_count": null,
   "id": "8e62d4a3-e58e-4250-b578-8781fc928d82",
   "metadata": {},
   "outputs": [],
   "source": [
    "check_output(f'gpg --import {KEYFILE}'.split(), encoding='utf-8')"
   ]
  },
  {
   "cell_type": "code",
   "execution_count": null,
   "id": "09c23e98-e750-45b3-ae13-01e09fd89c99",
   "metadata": {
    "scrolled": true,
    "tags": []
   },
   "outputs": [],
   "source": [
    "check_output(f'gpgv --keyring {KEYFILE} {SIGFILE} {PACKAGE}'.split(), encoding='utf-8')"
   ]
  },
  {
   "cell_type": "code",
   "execution_count": null,
   "id": "2ded757e-65c4-43b7-9047-8964be87c03a",
   "metadata": {
    "scrolled": true,
    "tags": []
   },
   "outputs": [],
   "source": [
    "! man gpgv"
   ]
  },
  {
   "cell_type": "code",
   "execution_count": null,
   "id": "56d6fe92-6984-4b2f-b20e-8cc75e403997",
   "metadata": {},
   "outputs": [],
   "source": [
    "SRC_DIR = Path.home() / 'src'\n",
    "INC_DIR = Path.home() / 'include'"
   ]
  },
  {
   "cell_type": "code",
   "execution_count": null,
   "id": "1155e949-e7ce-4bf3-876a-40b0a1488853",
   "metadata": {},
   "outputs": [],
   "source": []
  },
  {
   "cell_type": "code",
   "execution_count": null,
   "id": "deb493b9-1881-4413-af92-c777190d8878",
   "metadata": {
    "scrolled": true,
    "tags": []
   },
   "outputs": [],
   "source": [
    "public(tarfile)"
   ]
  },
  {
   "cell_type": "code",
   "execution_count": null,
   "id": "d60ea704-61bc-4f7d-9ac8-be6409918246",
   "metadata": {},
   "outputs": [],
   "source": [
    "PKG_DIR = Path.home() / 'Source'\n",
    "PACKAGE = PKG_DIR / 'net-snmp-5.9.1.tar.gz'\n",
    "SIGFILE = PKG_DIR / 'net-snmp-5.9.1.tar.gz.asc'\n",
    "KEYFILE = PKG_DIR / 'net-snmp-admin.asc'"
   ]
  },
  {
   "cell_type": "code",
   "execution_count": null,
   "id": "2792780e-727b-43eb-8f61-3b4b78c99d55",
   "metadata": {},
   "outputs": [],
   "source": [
    "os.listdir(PKG_DIR)"
   ]
  },
  {
   "cell_type": "code",
   "execution_count": null,
   "id": "02c6cedc-8fbe-4fe3-915b-88d17e356117",
   "metadata": {},
   "outputs": [],
   "source": []
  },
  {
   "cell_type": "code",
   "execution_count": 15,
   "id": "7d045185-6428-41a5-99ef-a78be0ee78e0",
   "metadata": {},
   "outputs": [],
   "source": [
    "os.chdir(DEVELOP_DIRS['uninstalled'])"
   ]
  },
  {
   "cell_type": "code",
   "execution_count": null,
   "id": "c11b576c-dc5d-4771-80c1-6b6c697ad9a1",
   "metadata": {},
   "outputs": [],
   "source": [
    "! pwd"
   ]
  },
  {
   "cell_type": "code",
   "execution_count": null,
   "id": "545d248e-324d-48b1-a8b2-41a88404053e",
   "metadata": {},
   "outputs": [],
   "source": [
    "os.listdir()"
   ]
  },
  {
   "cell_type": "code",
   "execution_count": 13,
   "id": "b454f1df-1ada-4817-8906-a24bcc995517",
   "metadata": {},
   "outputs": [
    {
     "data": {
      "text/plain": [
       "'net-snmp-5.9.1.tar.gz'"
      ]
     },
     "execution_count": 13,
     "metadata": {},
     "output_type": "execute_result"
    }
   ],
   "source": [
    "PACKAGE"
   ]
  },
  {
   "cell_type": "code",
   "execution_count": 35,
   "id": "22bd188f-41e1-466a-9bb6-8b3d181e01c7",
   "metadata": {},
   "outputs": [],
   "source": [
    "tf = tarfile.open(PACKAGE)"
   ]
  },
  {
   "cell_type": "code",
   "execution_count": 37,
   "id": "c9de97b7-afe8-4641-baff-5cbf73b1fd3a",
   "metadata": {
    "scrolled": true,
    "tags": []
   },
   "outputs": [],
   "source": [
    "tf.extractall()\n",
    "tf.close()"
   ]
  },
  {
   "cell_type": "code",
   "execution_count": 40,
   "id": "181363b3-bff4-47a9-a839-8087b0b0af46",
   "metadata": {},
   "outputs": [],
   "source": [
    "os.chdir(f'{PKG_STEM}-{PKG_VERSION}')"
   ]
  },
  {
   "cell_type": "code",
   "execution_count": 41,
   "id": "8912d000-2019-4fff-acc8-ad6223fb586a",
   "metadata": {
    "scrolled": true,
    "tags": []
   },
   "outputs": [
    {
     "name": "stdout",
     "output_type": "stream",
     "text": [
      "aclocal.m4\t  install-sh\t\t      README.agent-mibs\n",
      "agent\t\t  local\t\t\t      README.agentx\n",
      "AGENT.txt\t  ltmain.sh\t\t      README.aix\n",
      "apps\t\t  m4\t\t\t      README.hpux11\n",
      "ChangeLog\t  Makefile.am\t\t      README.irix\n",
      "CHANGES\t\t  Makefile.in\t\t      README.krb5\n",
      "ci\t\t  Makefile.rules\t      README.osX\n",
      "CodingStyle\t  Makefile.top\t\t      README.Panasonic_AM3X.txt\n",
      "config.guess\t  maketarget\t\t      README.snmpv3\n",
      "config.sub\t  man\t\t\t      README.solaris\n",
      "configure\t  mibs\t\t\t      README.sql\n",
      "configure.ac\t  mkinstalldirs\t\t      README.systemd\n",
      "configure.d\t  netsnmp-agent.pc.in\t      README.thread\n",
      "COPYING\t\t  net-snmp-config.in\t      README.tru64\n",
      "dist\t\t  net-snmp-create-v3-user.in  README.win32\n",
      "doc\t\t  netsnmp.pc.in\t\t      sedscript.in\n",
      "dotgdbinit\t  NEWS\t\t\t      snmplib\n",
      "doxygen.conf\t  ov\t\t\t      stamp-h\n",
      "EXAMPLE.conf.def  perl\t\t\t      stamp-h.in\n",
      "FAQ\t\t  PORTING\t\t      testing\n",
      "include\t\t  python\t\t      TODO\n",
      "INSTALL\t\t  README\t\t      win32\n"
     ]
    }
   ],
   "source": [
    "! ls"
   ]
  },
  {
   "cell_type": "code",
   "execution_count": 43,
   "id": "bebbac98-8cdb-4381-bd24-0f9414aa9cc9",
   "metadata": {
    "scrolled": true,
    "tags": []
   },
   "outputs": [
    {
     "name": "stdout",
     "output_type": "stream",
     "text": [
      "TABLE OF CONTENTS\n",
      "=================\n",
      "\n",
      "  Table Of Contents\n",
      "  Quick Instructions\n",
      "* Net-SNMP Specific Information\n",
      "  Long (but you should read these) Instructions\n",
      "  Installing the Perl/SNMP Module\n",
      "* Compilers and Options\n",
      "  Compiling For Multiple Architectures\n",
      "  Installation Names\n",
      "  Optional Features\n",
      "  Sharing Defaults\n",
      "  Operation Controls\n",
      "\n",
      "  * = required reading\n",
      "\n",
      "QUICK INSTRUCTIONS\n",
      "==================\n",
      "\n",
      "  1) Run ./configure\n",
      "     (type \"./configure --help\" for a quick usage summary.)\n",
      "     (--prefix=PATH will change the default /usr/local installation path.)\n",
      "     (see \"Compilers and Options\" on changing the compiler to use)\n",
      "\n",
      "  2) Optionally edit include/net-snmp/net-snmp-config.h\n",
      "     (due to prompting done by the configure script, this is very rarely\n",
      "      necessary.)\n",
      "\n",
      "  3) make\n",
      "\n",
      "  4) Run the next command as root:\n",
      "  5) make install\n",
      "\n",
      "  6) configure the agent\n",
      "     (either using 'snmpconf' or by crafting an snmpd.conf file manually.\n",
      "      The file 'EXAMPLE.conf' may be a suitable starting point)\n",
      "\n",
      "Note: By default, everything will be installed in /usr/local.\n",
      "      (see below for more instructions)\n",
      "\n",
      "Net-SNMP Specific Information\n",
      "=============================\n",
      "\n",
      "As of UCD-SNMP V3.3.1 the configuration files are now looked for in\n",
      "$(prefix)/share/snmp, where ($prefix) is defined as the value passed\n",
      "to the --prefix argument of the configure script, or /usr/local if\n",
      "undefined.  In version 3.0.3 till 3.3, the files were kept in\n",
      "$(prefix)/lib/snmp\n",
      "\n",
      "Optional features to pass to configure for Net-SNMP can be obtained by\n",
      "running configure --help.\n",
      "\n",
      "LONG (but you should read these) INSTRUCTIONS\n",
      "=============================================\n",
      "\n",
      "   The `configure' shell script attempts to guess correct values for\n",
      "various system-dependent variables used during compilation.  It uses\n",
      "those values to create a `Makefile' in each directory of the package.\n",
      "It may also create one or more `.h' files containing system-dependent\n",
      "definitions.  Finally, it creates a shell script `config.status' that\n",
      "you can run in the future to recreate the current configuration, a file\n",
      "`config.cache' that saves the results of its tests to speed up\n",
      "reconfiguring, a file `config.log' containing compiler output\n",
      "(useful mainly for debugging `configure') and a file `configure-summary'\n",
      "containing the summary displayed at the end of the `configure' run.\n",
      "\n",
      "   The file `include/net-snmp/net-snmp-config.h' is also generated\n",
      "at this time.  It contains IMPORTANT information such as the location\n",
      "of log and configuration files.  In some special cases you may need to\n",
      "modify this file but it is prefererable to work out a way of getting\n",
      "`configure' to set things up for your particular environment.\n",
      "\n",
      "As the `configure' invocation often gets lengthy and difficult to\n",
      "type or if you have several different ways you want to configure a\n",
      "system, you may want to create a shell script containing your invocation.\n",
      "\n",
      "   If you need to do unusual things to compile the package, please try\n",
      "to figure out how `configure' could check whether to do them, and mail\n",
      "diffs or instructions to the address given in the `README' so they can\n",
      "be considered for the next release.  If at some point `config.cache'\n",
      "contains results you don't want to keep, you may remove or edit it.\n",
      "\n",
      "   The file `configure.in' is used to create `configure' by a program\n",
      "called `autoconf'.  You only need `configure.in' if you want to change\n",
      "it or regenerate `configure' using a newer version of `autoconf'.\n",
      "\n",
      "The simplest way to compile this package is:\n",
      "\n",
      "  1. `cd' to the directory containing the package's source code and type\n",
      "     `./configure' to configure the package for your system.  If you're\n",
      "     using `csh' on an old version of System V, you might need to type\n",
      "     `sh ./configure' instead to prevent `csh' from trying to execute\n",
      "     `configure' itself.\n",
      "\n",
      "     Running `configure' takes awhile.  While running, it prints some\n",
      "     messages telling which features it is checking for.  When it\n",
      "     completes it prints a short message (also available in configure-summary)\n",
      "     indicating what functionality will be available when compiled.\n",
      "\n",
      "  2. If necessary, edit include/net-snmp/net-snmp-config.h (see above).  \n",
      "\n",
      "  3. Type `make' to compile the package.\n",
      "\n",
      "  4. Type `make test' which runs a variety of tests to see what functionality\n",
      "     has been incorporated and if it works.\n",
      "\n",
      "  5. Type `make install' to install the programs and any data files and\n",
      "     documentation.\n",
      "\n",
      "  6. You can remove the program binaries and object files from the\n",
      "     source code directory by typing `make clean'.  To also remove the\n",
      "     files that `configure' created (so you can compile the package for\n",
      "     a different kind of computer), type `make distclean'.\n",
      "\n",
      "  7. You can remove the application (but not the perl or python modules)\n",
      "     by typing `make uninstall'.\n",
      "\n",
      "There may be additional installation issues discussed in the \n",
      "README's for various platforms such as README.solaris.\n",
      "\n",
      "\n",
      "Installing the Perl/SNMP Module\n",
      "===============================\n",
      "\n",
      "   The Perl/SNMP Module is now bundled with the net-snmp package\n",
      "(which includes other Net-SNMP specific modules as well), all of which\n",
      "are located in the net-snmp/perl directory. The Perl package provides\n",
      "a high level abstract interface to the functionality found in the\n",
      "Net-SNMP libraries and demon applications.\n",
      "\n",
      "   It is recommended you install the perl modules as you build the\n",
      "   Net-SNMP package.  The configure script can be run as follows to\n",
      "   automatically find perl and use it to install the perl modules:\n",
      "\n",
      "      ./configure --with-perl-modules\n",
      "\n",
      "   If you wish to use the embedded perl support available in the\n",
      "   Net-SNMP agent (and starting in Net-SNMP 5.2, the trap receiver),\n",
      "   then use the following option instead:\n",
      "\n",
      "      ./configure --enable-embedded-perl --enable-shared\n",
      "\n",
      "   Starting with Net-SNMP 5.4, configure enables embedded Perl and the \n",
      "   Perl modules by default when possible unless explicitly disabled.\n",
      "\n",
      "   If you wish to build the perl modules by hand, *install Net-SNMP\n",
      "   first* and then change directories to the perl subdirectory and:\n",
      "\n",
      "   Run:\n",
      "            cd perl\n",
      "            perl Makefile.PL\n",
      "            make\n",
      "            make test\n",
      "            make install (as root)\n",
      "\n",
      "\n",
      "Compilers and Options\n",
      "=====================\n",
      "\n",
      "   Some systems require unusual options for compilation or linking that\n",
      "the `configure' script does not know about.  You can give `configure'\n",
      "initial values for variables by setting them in the environment.  Using\n",
      "a Bourne-compatible shell, you can do that on the command line like\n",
      "this:\n",
      "     CC=c89 CFLAGS=-O2 LIBS=-lposix ./configure\n",
      "\n",
      "Or on systems that have the `env' program, you can do it like this:\n",
      "     env CPPFLAGS=-I/usr/local/include LDFLAGS=-s ./configure\n",
      "\n",
      "Compiling For Multiple Architectures\n",
      "====================================\n",
      "\n",
      "   You can compile the package for more than one kind of computer at the\n",
      "same time, by placing the object files for each architecture in their\n",
      "own directory.  To do this, you must use a version of `make' that\n",
      "supports the `VPATH' variable, such as GNU `make'.  `cd' to the\n",
      "directory where you want the object files and executables to go and run\n",
      "the `configure' script.  `configure' automatically checks for the\n",
      "source code in the directory that `configure' is in and in `..'.\n",
      "\n",
      "   If you have to use a `make' that does not supports the `VPATH'\n",
      "variable, there is a `maketarget' script that will generate a symlink'ed\n",
      "shadow-directory for the object files. Do a `sh maketarget', then `cd' into\n",
      "targets/`config.guess` and do the configuration and installation.\n",
      "\n",
      "Installation Names\n",
      "==================\n",
      "\n",
      "   By default, `make install' will install the package's files in\n",
      "`/usr/local/bin', `/usr/local/man', etc.  You can specify an\n",
      "installation prefix other than `/usr/local' by giving `configure' the\n",
      "option `--prefix=PATH'.\n",
      "\n",
      "   You can specify separate installation prefixes for\n",
      "architecture-specific files and architecture-independent files.  If you\n",
      "give `configure' the option `--exec-prefix=PATH', the package will use\n",
      "PATH as the prefix for installing programs and libraries.\n",
      "Documentation and other data files will still use the regular prefix.\n",
      "\n",
      "   If the package supports it, you can cause programs to be installed\n",
      "with an extra prefix or suffix on their names by giving `configure' the\n",
      "option `--program-prefix=PREFIX' or `--program-suffix=SUFFIX'.\n",
      "\n",
      "Optional Features\n",
      "=================\n",
      "\n",
      "   Some packages pay attention to `--enable-FEATURE' options to\n",
      "`configure', where FEATURE indicates an optional part of the package.\n",
      "They may also pay attention to `--with-PACKAGE' options, where PACKAGE\n",
      "is something like `gnu-as' or `x' (for the X Window System).  The\n",
      "`README' should mention any `--enable-' and `--with-' options that the\n",
      "package recognizes.\n",
      "\n",
      "   For packages that use the X Window System, `configure' can usually\n",
      "find the X include and library files automatically, but if it doesn't,\n",
      "you can use the `configure' options `--x-includes=DIR' and\n",
      "`--x-libraries=DIR' to specify their locations.\n",
      "\n",
      "Specifying the System Type\n",
      "==========================\n",
      "\n",
      "   There may be some features `configure' can not figure out\n",
      "automatically, but needs to determine by the type of host the package\n",
      "will run on.  Usually `configure' can figure that out, but if it prints\n",
      "a message saying it can not guess the host type, give it the\n",
      "`--host=TYPE' option.  TYPE can either be a short name for the system\n",
      "type, such as `sun4', or a canonical name with three fields:\n",
      "     CPU-COMPANY-SYSTEM\n",
      "\n",
      "See the file `config.sub' for the possible values of each field.  If\n",
      "`config.sub' isn't included in this package, then this package doesn't\n",
      "need to know the host type.\n",
      "\n",
      "   If you are building compiler tools for cross-compiling, you can also\n",
      "use the `--target=TYPE' option to select the type of system they will\n",
      "produce code for and the `--build=TYPE' option to select the type of\n",
      "system on which you are compiling the package.\n",
      "\n",
      "Sharing Defaults\n",
      "================\n",
      "\n",
      "   If you want to set default values for `configure' scripts to share,\n",
      "you can create a site shell script called `config.site' that gives\n",
      "default values for variables like `CC', `cache_file', and `prefix'.\n",
      "`configure' looks for `PREFIX/share/config.site' if it exists, then\n",
      "`PREFIX/etc/config.site' if it exists.  Or, you can set the\n",
      "`CONFIG_SITE' environment variable to the location of the site script.\n",
      "A warning: not all `configure' scripts look for a site script.\n",
      "\n",
      "Operation Controls\n",
      "==================\n",
      "\n",
      "   `configure' recognizes the following options to control how it\n",
      "operates.\n",
      "\n",
      "`--cache-file=FILE'\n",
      "     Use and save the results of the tests in FILE instead of\n",
      "     `./config.cache'.  Set FILE to `/dev/null' to disable caching, for\n",
      "     debugging `configure'.\n",
      "\n",
      "`--help'\n",
      "     Print a summary of the options to `configure', and exit.\n",
      "\n",
      "`--quiet'\n",
      "`--silent'\n",
      "`-q'\n",
      "     Do not print messages saying which checks are being made.\n",
      "\n",
      "`--srcdir=DIR'\n",
      "     Look for the package's source code in directory DIR.  Usually\n",
      "     `configure' can determine that directory automatically.\n",
      "\n",
      "`--version'\n",
      "     Print the version of Autoconf used to generate the `configure'\n",
      "     script, and exit.\n",
      "\n",
      "`configure' also accepts some other, not widely useful, options.\n",
      "\n",
      "\n"
     ]
    }
   ],
   "source": [
    "print(Path('INSTALL').read_text())"
   ]
  },
  {
   "cell_type": "code",
   "execution_count": null,
   "id": "3b6d4e41-d9b3-4b77-af61-6d497345887c",
   "metadata": {
    "scrolled": true,
    "tags": []
   },
   "outputs": [
    {
     "name": "stdout",
     "output_type": "stream",
     "text": [
      "checking for gcc... gcc\n",
      "checking whether the C compiler works... yes\n",
      "checking for C compiler default output file name... a.out\n",
      "checking for suffix of executables... \n",
      "checking whether we are cross compiling... no\n",
      "checking for suffix of object files... o\n",
      "checking whether we are using the GNU C compiler... yes\n",
      "checking whether gcc accepts -g... yes\n",
      "checking for gcc option to accept ISO C89... none needed\n",
      "checking how to run the C preprocessor... gcc -E\n",
      "checking for grep that handles long lines and -e... /usr/bin/grep\n",
      "checking for egrep... /usr/bin/grep -E\n",
      "checking for ANSI C header files... yes\n",
      "checking for sys/types.h... yes\n",
      "checking for sys/stat.h... yes\n",
      "checking for stdlib.h... yes\n",
      "checking for string.h... yes\n",
      "checking for memory.h... yes\n",
      "checking for strings.h... yes\n",
      "checking for inttypes.h... yes\n",
      "checking for stdint.h... yes\n",
      "checking for unistd.h... yes\n",
      "checking minix/config.h usability... no\n",
      "checking minix/config.h presence... no\n",
      "checking for minix/config.h... no\n",
      "checking whether it is safe to define __EXTENSIONS__... yes\n",
      "checking openssl/aes.h usability... no\n",
      "checking openssl/aes.h presence... no\n",
      "checking for openssl/aes.h... no\n",
      "checking openssl/evp.h usability... no\n",
      "checking openssl/evp.h presence... no\n",
      "checking for openssl/evp.h... no\n",
      "checking what to build and install...  agent apps man local mibs\n",
      "using default persistent mask 077\n",
      "using default temporary file pattern /tmp/snmpdXXXXXX\n",
      "using default AgentX socket /var/agentx/master\n",
      "using default \"enterprise.net-snmp\"\n",
      "using default enterprise sysOID \"NET-SNMP-MIB::netSnmpAgentOIDs...\"\n",
      "using default notifications \"NET-SNMP-MIB::netSnmpNotifications\"\n",
      "using OS default send buffer size for server sockets\n",
      "using OS default recv buffer size for server sockets\n",
      "using OS default send buffer size for client sockets\n",
      "using OS default recv buffer size for client sockets\n",
      "checking whether to prompt for values... configure:\n",
      "\n",
      "\t ************** Configuration Section **************\n",
      "\n",
      "\tYou are about to be prompted with a series of questions.  Answer\n",
      "them carefully, as they determine how the SNMP agent and related\n",
      "applications are to function.\n",
      "\n",
      "\tAfter the configure script finishes, you can browse the newly\n",
      "created net-snmp-config.h file for further - less important - parameters to\n",
      "modify.  Be careful if you re-run configure though, since net-snmp-config.h\n",
      "will be overwritten.\n",
      "\n",
      "-Press return to continue-\n",
      "\n"
     ]
    }
   ],
   "source": [
    "! ./configure"
   ]
  },
  {
   "cell_type": "code",
   "execution_count": null,
   "id": "695d7eb1-293f-4ff2-bd60-c13c4788d786",
   "metadata": {},
   "outputs": [],
   "source": [
    "help(list.extend)"
   ]
  },
  {
   "cell_type": "code",
   "execution_count": 27,
   "id": "ef67125f-e898-4e32-bb57-98471f10a530",
   "metadata": {},
   "outputs": [
    {
     "name": "stdout",
     "output_type": "stream",
     "text": [
      "/home/fuzzy/Source\n"
     ]
    }
   ],
   "source": [
    "! pwd"
   ]
  },
  {
   "cell_type": "code",
   "execution_count": 32,
   "id": "1e4582ae-c1fb-4726-8368-e34dd67caa0b",
   "metadata": {},
   "outputs": [
    {
     "data": {
      "text/plain": [
       "'.'"
      ]
     },
     "execution_count": 32,
     "metadata": {},
     "output_type": "execute_result"
    }
   ],
   "source": [
    "os.curdir"
   ]
  },
  {
   "cell_type": "code",
   "execution_count": 33,
   "id": "6e0c951f-a624-4789-a255-f9a6bf1b5378",
   "metadata": {},
   "outputs": [
    {
     "data": {
      "text/plain": [
       "'.'"
      ]
     },
     "execution_count": 33,
     "metadata": {},
     "output_type": "execute_result"
    }
   ],
   "source": [
    "str(Path(os.curdir))"
   ]
  },
  {
   "cell_type": "code",
   "execution_count": 34,
   "id": "ae0445c4-920d-4f5f-8afc-62894d7487c0",
   "metadata": {},
   "outputs": [
    {
     "name": "stdout",
     "output_type": "stream",
     "text": [
      "/home/fuzzy/Source\n"
     ]
    }
   ],
   "source": [
    "! pwd"
   ]
  },
  {
   "cell_type": "markdown",
   "id": "26d10264-82a2-4a88-812b-f55aea1b41ea",
   "metadata": {},
   "source": [
    "## Set Up Public Key Authentication"
   ]
  },
  {
   "cell_type": "code",
   "execution_count": null,
   "id": "25046773-c5e0-4015-8f6e-ce3523d1c0b5",
   "metadata": {},
   "outputs": [],
   "source": []
  }
 ],
 "metadata": {
  "kernelspec": {
   "display_name": "Python 3 (ipykernel)",
   "language": "python",
   "name": "python3"
  },
  "language_info": {
   "codemirror_mode": {
    "name": "ipython",
    "version": 3
   },
   "file_extension": ".py",
   "mimetype": "text/x-python",
   "name": "python",
   "nbconvert_exporter": "python",
   "pygments_lexer": "ipython3",
   "version": "3.8.10"
  }
 },
 "nbformat": 4,
 "nbformat_minor": 5
}
