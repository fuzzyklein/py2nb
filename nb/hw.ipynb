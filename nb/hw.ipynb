{
 "cells": [
  {
   "cell_type": "markdown",
   "id": "1a33f809-bdfe-43e5-9833-98117e3fc32d",
   "metadata": {},
   "source": [
    "# Hello, World!"
   ]
  },
  {
   "cell_type": "markdown",
   "id": "5a2200a1-ed4d-4e5f-bb76-6a58a12a7591",
   "metadata": {},
   "source": [
    "Version: `4.2.0`"
   ]
  },
  {
   "cell_type": "markdown",
   "id": "1cd1d3d0-c01e-47da-baa2-83f8fce9a715",
   "metadata": {},
   "source": [
    "Skeleton project for Python software development."
   ]
  },
  {
   "cell_type": "markdown",
   "id": "0d69c9a5-afec-4036-b55d-e41e5c6c1220",
   "metadata": {},
   "source": [
    "## Usage"
   ]
  },
  {
   "cell_type": "markdown",
   "id": "36ded1e3-65a4-497b-9c55-0a0560b8952d",
   "metadata": {},
   "source": [
    "To run this particular Hello, World! program, navigate to the project directory `hw-4.2.0` and use:"
   ]
  },
  {
   "cell_type": "markdown",
   "id": "e3575e97-4113-4c8d-8766-e200c5800231",
   "metadata": {},
   "source": [
    "```\n",
    "hw-4.2.0$ ./run\n",
    "Hello, World!\n",
    "\n",
    "```"
   ]
  },
  {
   "cell_type": "markdown",
   "id": "945343b7-d730-4d6d-9836-cb8e93d79acd",
   "metadata": {},
   "source": []
  }
 ],
 "metadata": {
  "kernelspec": {
   "display_name": "Python 3 (ipykernel)",
   "language": "python",
   "name": "python3"
  },
  "language_info": {
   "codemirror_mode": {
    "name": "ipython",
    "version": 3
   },
   "file_extension": ".py",
   "mimetype": "text/x-python",
   "name": "python",
   "nbconvert_exporter": "python",
   "pygments_lexer": "ipython3",
   "version": "3.8.10"
  }
 },
 "nbformat": 4,
 "nbformat_minor": 5
}
