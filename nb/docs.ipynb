{
 "cells": [
  {
   "cell_type": "code",
   "execution_count": null,
   "id": "ec22ce5d-10bc-4814-a9a2-f5139d617f4a",
   "metadata": {},
   "outputs": [],
   "source": []
  },
  {
   "cell_type": "markdown",
   "id": "daff9cf6-311c-4ed5-b12a-9957cecc8f2e",
   "metadata": {},
   "source": [
    "## Convert a Markdown file to HTML"
   ]
  },
  {
   "cell_type": "code",
   "execution_count": 17,
   "id": "0e15abf6-926b-41ef-b37b-0dcfd790d924",
   "metadata": {},
   "outputs": [],
   "source": [
    "SOURCE = \"html/index.md\"\n",
    "DEST   = \"html/index.html\""
   ]
  },
  {
   "cell_type": "code",
   "execution_count": 18,
   "id": "5e24231a-1fad-433b-805f-2245b64a14bb",
   "metadata": {},
   "outputs": [
    {
     "data": {
      "text/plain": [
       "601"
      ]
     },
     "execution_count": 18,
     "metadata": {},
     "output_type": "execute_result"
    }
   ],
   "source": [
    "from markdown import markdown as md\n",
    "from pathlib import Path\n",
    "\n",
    "Path(DEST).write_text(md(Path(SOURCE).read_text()))"
   ]
  }
 ],
 "metadata": {
  "kernelspec": {
   "display_name": "Python 3 (ipykernel)",
   "language": "python",
   "name": "python3"
  },
  "language_info": {
   "codemirror_mode": {
    "name": "ipython",
    "version": 3
   },
   "file_extension": ".py",
   "mimetype": "text/x-python",
   "name": "python",
   "nbconvert_exporter": "python",
   "pygments_lexer": "ipython3",
   "version": "3.8.10"
  }
 },
 "nbformat": 4,
 "nbformat_minor": 5
}
