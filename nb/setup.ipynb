{
 "cells": [
  {
   "cell_type": "code",
   "execution_count": 1,
   "id": "5b1e0f02-98fe-4d92-afb1-37bf1c26c428",
   "metadata": {},
   "outputs": [],
   "source": [
    "import os"
   ]
  },
  {
   "cell_type": "markdown",
   "id": "24f0bbbf-ea11-4af3-96ca-22af91b3f6ad",
   "metadata": {},
   "source": [
    "## [Packaging Python Projects](https://packaging.python.org/tutorials/packaging-projects/)"
   ]
  },
  {
   "cell_type": "markdown",
   "id": "8bb2aec4-2def-4333-bc2b-bb4baf1707cb",
   "metadata": {},
   "source": [
    "## Determine the Current Operating System"
   ]
  },
  {
   "cell_type": "code",
   "execution_count": 2,
   "id": "e0cc0e8d-3047-433b-81b8-c263bac34fc5",
   "metadata": {},
   "outputs": [
    {
     "data": {
      "text/plain": [
       "False"
      ]
     },
     "execution_count": 2,
     "metadata": {},
     "output_type": "execute_result"
    }
   ],
   "source": [
    "RUNNING_WINDOWS = os.name == 'nt'\n",
    "RUNNING_WINDOWS"
   ]
  },
  {
   "cell_type": "code",
   "execution_count": 3,
   "id": "10a5245b-99d4-438a-ad4c-85f614dd7e10",
   "metadata": {},
   "outputs": [],
   "source": [
    "import gzip\n",
    "import os\n",
    "from pandas import DataFrame, Series\n",
    "from subprocess import check_output\n",
    "import sys\n",
    "import tarfile\n",
    "from tempfile import NamedTemporaryFile as TempFile\n",
    "from pathlib import Path\n",
    "\n",
    "DEVELOP_DIRS  = {'source code' : 'src',\n",
    "                 'header files' : 'include',\n",
    "                 'object file' : 'lib',\n",
    "                 'uninstalled' : 'Source',\n",
    "                 'installed' : 'Archive',\n",
    "                 'executables' : 'bin',\n",
    "                 'temp' : 'tmp',\n",
    "                 'devel' : 'Development'\n",
    "                }\n",
    "\n",
    "HOME = Path.home()\n",
    "\n",
    "DEVELOP_DIRS = { k : str(HOME / v) for k, v in DEVELOP_DIRS.items() }\n",
    "\n",
    "VERSION = '4.2.0'\n",
    "packages = ['hw', 'files', 'tools', 'ws']\n",
    "for p in packages:\n",
    "    s = f'{DEVELOP_DIRS[\"devel\"]}/{p}-{VERSION}'\n",
    "    if not s in sys.path:\n",
    "        sys.path.insert(0, s)\n",
    "\n"
   ]
  },
  {
   "cell_type": "code",
   "execution_count": 4,
   "id": "cef650db-4cf0-4e0e-8678-e4270249db71",
   "metadata": {},
   "outputs": [],
   "source": [
    "import xdg"
   ]
  },
  {
   "cell_type": "code",
   "execution_count": 11,
   "id": "a378a3d0-5bd4-4b15-9354-a348837393ad",
   "metadata": {},
   "outputs": [],
   "source": [
    "from tools.tools import *"
   ]
  },
  {
   "cell_type": "code",
   "execution_count": 14,
   "id": "1d7f2baa-cb38-4cd3-8fa4-f9dcb77131da",
   "metadata": {},
   "outputs": [
    {
     "name": "stdout",
     "output_type": "stream",
     "text": [
      "Help on package xdg:\n",
      "\n",
      "NAME\n",
      "    xdg\n",
      "\n",
      "PACKAGE CONTENTS\n",
      "    BaseDirectory\n",
      "    Config\n",
      "    DesktopEntry\n",
      "    Exceptions\n",
      "    IconTheme\n",
      "    IniFile\n",
      "    Locale\n",
      "    Menu\n",
      "    MenuEditor\n",
      "    Mime\n",
      "    RecentFiles\n",
      "    util\n",
      "\n",
      "DATA\n",
      "    __all__ = ['BaseDirectory', 'DesktopEntry', 'Menu', 'Exceptions', 'Ini...\n",
      "\n",
      "VERSION\n",
      "    0.26\n",
      "\n",
      "FILE\n",
      "    /usr/lib/python3/dist-packages/xdg/__init__.py\n",
      "\n",
      "\n"
     ]
    }
   ],
   "source": [
    "help(xdg)"
   ]
  },
  {
   "cell_type": "code",
   "execution_count": 15,
   "id": "2ff6251f-587a-4598-8ca7-6fb7567f3e45",
   "metadata": {},
   "outputs": [
    {
     "ename": "AttributeError",
     "evalue": "module 'xdg' has no attribute 'BaseDirectory'",
     "output_type": "error",
     "traceback": [
      "\u001b[0;31m---------------------------------------------------------------------------\u001b[0m",
      "\u001b[0;31mAttributeError\u001b[0m                            Traceback (most recent call last)",
      "\u001b[0;32m/tmp/ipykernel_65168/4079784547.py\u001b[0m in \u001b[0;36m<module>\u001b[0;34m\u001b[0m\n\u001b[0;32m----> 1\u001b[0;31m \u001b[0mhelp\u001b[0m\u001b[0;34m(\u001b[0m\u001b[0mxdg\u001b[0m\u001b[0;34m.\u001b[0m\u001b[0mBaseDirectory\u001b[0m\u001b[0;34m)\u001b[0m\u001b[0;34m\u001b[0m\u001b[0;34m\u001b[0m\u001b[0m\n\u001b[0m",
      "\u001b[0;31mAttributeError\u001b[0m: module 'xdg' has no attribute 'BaseDirectory'"
     ]
    }
   ],
   "source": [
    "help(xdg.BaseDirectory)"
   ]
  },
  {
   "cell_type": "code",
   "execution_count": null,
   "id": "8c82d98f-bce9-4036-a6ac-eb7c46b11ae2",
   "metadata": {},
   "outputs": [],
   "source": [
    "dir(tools)"
   ]
  },
  {
   "cell_type": "code",
   "execution_count": 7,
   "id": "a54d7af6-8e84-47c4-9fa7-f7f57ab2ff18",
   "metadata": {},
   "outputs": [
    {
     "data": {
      "text/plain": [
       "['/home/fuzzy/Development/ws-4.2.0',\n",
       " '/home/fuzzy/Development/tools-4.2.0',\n",
       " '/home/fuzzy/Development/files-4.2.0',\n",
       " '/home/fuzzy/Development/hw-4.2.0',\n",
       " '/home/fuzzy/Development/hw-4.2.0/nb',\n",
       " '/usr/lib/python38.zip',\n",
       " '/usr/lib/python3.8',\n",
       " '/usr/lib/python3.8/lib-dynload',\n",
       " '',\n",
       " '/home/fuzzy/.local/lib/python3.8/site-packages',\n",
       " '/usr/local/lib/python3.8/dist-packages',\n",
       " '/usr/lib/python3/dist-packages',\n",
       " '/home/fuzzy/.local/lib/python3.8/site-packages/IPython/extensions',\n",
       " '/home/fuzzy/.ipython']"
      ]
     },
     "execution_count": 7,
     "metadata": {},
     "output_type": "execute_result"
    }
   ],
   "source": [
    "sys.path"
   ]
  },
  {
   "cell_type": "code",
   "execution_count": 8,
   "id": "d85c3e1f-2345-4709-afec-e6dd20c0aa67",
   "metadata": {},
   "outputs": [],
   "source": [
    "import tools"
   ]
  },
  {
   "cell_type": "code",
   "execution_count": 9,
   "id": "f04ba919-c5e6-4250-960c-3237e5009c6f",
   "metadata": {},
   "outputs": [
    {
     "data": {
      "text/plain": [
       "['__builtins__',\n",
       " '__cached__',\n",
       " '__doc__',\n",
       " '__file__',\n",
       " '__loader__',\n",
       " '__name__',\n",
       " '__package__',\n",
       " '__path__',\n",
       " '__spec__']"
      ]
     },
     "execution_count": 9,
     "metadata": {},
     "output_type": "execute_result"
    }
   ],
   "source": [
    "dir(tools)"
   ]
  },
  {
   "cell_type": "code",
   "execution_count": 10,
   "id": "8d959646-44c8-4c9a-9e80-a8b27cff726c",
   "metadata": {},
   "outputs": [
    {
     "data": {
      "text/plain": [
       "['/home/fuzzy/Development/tools-4.2.0/tools']"
      ]
     },
     "execution_count": 10,
     "metadata": {},
     "output_type": "execute_result"
    }
   ],
   "source": [
    "tools.__path__"
   ]
  },
  {
   "cell_type": "code",
   "execution_count": 16,
   "id": "c2f571fe-cef8-4a82-9f15-22b5e40dc879",
   "metadata": {},
   "outputs": [],
   "source": [
    "import xdg.BaseDirectory"
   ]
  },
  {
   "cell_type": "code",
   "execution_count": 17,
   "id": "32308697-dd1e-45e7-9d50-8852dd5d1e53",
   "metadata": {},
   "outputs": [
    {
     "name": "stdout",
     "output_type": "stream",
     "text": [
      "get_runtime_dir    os                stat             xdg_data_dirs\n",
      "load_config_paths  save_cache_path   xdg_cache_home   xdg_data_home\n",
      "load_data_paths    save_config_path  xdg_config_dirs\n",
      "load_first_config  save_data_path    xdg_config_home\n"
     ]
    }
   ],
   "source": [
    "public(xdg.BaseDirectory)"
   ]
  },
  {
   "cell_type": "code",
   "execution_count": 19,
   "id": "cb5886b4-afcf-4a74-a7a1-4ba4fe53b0f6",
   "metadata": {},
   "outputs": [
    {
     "name": "stdout",
     "output_type": "stream",
     "text": [
      "Help on function get_runtime_dir in module xdg.BaseDirectory:\n",
      "\n",
      "get_runtime_dir(strict=True)\n",
      "    Returns the value of $XDG_RUNTIME_DIR, a directory path.\n",
      "    \n",
      "    This directory is intended for 'user-specific non-essential runtime files\n",
      "    and other file objects (such as sockets, named pipes, ...)', and\n",
      "    'communication and synchronization purposes'.\n",
      "    \n",
      "    As of late 2012, only quite new systems set $XDG_RUNTIME_DIR. If it is not\n",
      "    set, with ``strict=True`` (the default), a KeyError is raised. With \n",
      "    ``strict=False``, PyXDG will create a fallback under /tmp for the current\n",
      "    user. This fallback does *not* provide the same guarantees as the\n",
      "    specification requires for the runtime directory.\n",
      "    \n",
      "    The strict default is deliberately conservative, so that application\n",
      "    developers can make a conscious decision to allow the fallback.\n",
      "\n"
     ]
    }
   ],
   "source": [
    "help(xdg.BaseDirectory.get_runtime_dir)"
   ]
  },
  {
   "cell_type": "code",
   "execution_count": null,
   "id": "10f41cd0-c237-4ef3-8faf-7ceb4f4406c5",
   "metadata": {},
   "outputs": [],
   "source": []
  }
 ],
 "metadata": {
  "kernelspec": {
   "display_name": "Python 3 (ipykernel)",
   "language": "python",
   "name": "python3"
  },
  "language_info": {
   "codemirror_mode": {
    "name": "ipython",
    "version": 3
   },
   "file_extension": ".py",
   "mimetype": "text/x-python",
   "name": "python",
   "nbconvert_exporter": "python",
   "pygments_lexer": "ipython3",
   "version": "3.8.10"
  }
 },
 "nbformat": 4,
 "nbformat_minor": 5
}
