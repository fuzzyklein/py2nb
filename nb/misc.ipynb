{
 "cells": [
  {
   "cell_type": "markdown",
   "id": "699625c8-0255-4e77-9033-a48c2802a4b1",
   "metadata": {},
   "source": [
    "# Miscellaneous"
   ]
  },
  {
   "cell_type": "markdown",
   "id": "fd5e9934-ca2f-4189-b0d2-c092bc112303",
   "metadata": {},
   "source": [
    "## Convert Millimeters to Inches"
   ]
  },
  {
   "cell_type": "code",
   "execution_count": 1,
   "id": "0cf28c41-abb7-46cd-863d-4f480c969f75",
   "metadata": {},
   "outputs": [],
   "source": [
    "CONV_FACTOR = 0.039370\n",
    "\n",
    "def in2mm(n):\n",
    "    return n / CONV_FACTOR\n",
    "\n",
    "def mm2in(n):\n",
    "    return n * CONV_FACTOR"
   ]
  },
  {
   "cell_type": "code",
   "execution_count": null,
   "id": "b36a6384-5134-452c-994a-93eeafb10ddc",
   "metadata": {},
   "outputs": [],
   "source": []
  }
 ],
 "metadata": {
  "kernelspec": {
   "display_name": "Python 3 (ipykernel)",
   "language": "python",
   "name": "python3"
  },
  "language_info": {
   "codemirror_mode": {
    "name": "ipython",
    "version": 3
   },
   "file_extension": ".py",
   "mimetype": "text/x-python",
   "name": "python",
   "nbconvert_exporter": "python",
   "pygments_lexer": "ipython3",
   "version": "3.8.10"
  }
 },
 "nbformat": 4,
 "nbformat_minor": 5
}
