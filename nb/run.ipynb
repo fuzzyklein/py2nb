{
 "cells": [
  {
   "cell_type": "code",
   "execution_count": 5,
   "id": "65a941a1-2b51-4314-9ff5-57e9a902dd7e",
   "metadata": {},
   "outputs": [],
   "source": [
    "%%bash\n",
    "[[ -e ~/.venv-3.9 ]] || printf \"Hi\""
   ]
  },
  {
   "cell_type": "code",
   "execution_count": null,
   "id": "9ba715fb-ef6c-4742-8e46-aa4548b53f38",
   "metadata": {},
   "outputs": [],
   "source": []
  }
 ],
 "metadata": {
  "kernelspec": {
   "display_name": "Python 3 (ipykernel)",
   "language": "python",
   "name": "python3"
  },
  "language_info": {
   "codemirror_mode": {
    "name": "ipython",
    "version": 3
   },
   "file_extension": ".py",
   "mimetype": "text/x-python",
   "name": "python",
   "nbconvert_exporter": "python",
   "pygments_lexer": "ipython3",
   "version": "3.8.10"
  }
 },
 "nbformat": 4,
 "nbformat_minor": 5
}
